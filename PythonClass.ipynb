{
 "cells": [
  {
   "cell_type": "code",
   "execution_count": null,
   "metadata": {},
   "outputs": [],
   "source": [
    "#9Ge%z7Vn]~@<!bL+X-BlH"
   ]
  },
  {
   "cell_type": "code",
   "execution_count": 1,
   "metadata": {},
   "outputs": [
    {
     "name": "stdout",
     "output_type": "stream",
     "text": [
      "correct that is the number\n"
     ]
    }
   ],
   "source": [
    "number = 10\n",
    "\n",
    "if number == 10:\n",
    "    print('correct that is the number')"
   ]
  },
  {
   "cell_type": "code",
   "execution_count": 2,
   "metadata": {},
   "outputs": [
    {
     "name": "stdout",
     "output_type": "stream",
     "text": [
      "Wrong, that is not a number\n"
     ]
    }
   ],
   "source": [
    "user =input('Enter a number here: ')\n",
    "\n",
    "if user.isdigit():\n",
    "    print('Yes, that is a number')\n",
    "else: \n",
    "    print('Wrong, that is not a number')"
   ]
  },
  {
   "cell_type": "code",
   "execution_count": 3,
   "metadata": {},
   "outputs": [
    {
     "name": "stdout",
     "output_type": "stream",
     "text": [
      "fizz\n",
      "buzz\n"
     ]
    }
   ],
   "source": [
    "user = int(input('Enter a number: '))\n",
    "\n",
    "if not user % 3:\n",
    "    print('fizz')\n",
    "if not user % 5:\n",
    "    print('buzz')\n",
    "if user % 3 and user % 5:\n",
    "    print('user')"
   ]
  },
  {
   "cell_type": "code",
   "execution_count": 8,
   "metadata": {},
   "outputs": [
    {
     "name": "stdout",
     "output_type": "stream",
     "text": [
      "<class 'int'>\n"
     ]
    }
   ],
   "source": [
    "a = 10 % 3\n",
    "print(type(a))"
   ]
  },
  {
   "cell_type": "code",
   "execution_count": 11,
   "metadata": {},
   "outputs": [
    {
     "name": "stdout",
     "output_type": "stream",
     "text": [
      "cat\n",
      "dog\n"
     ]
    }
   ],
   "source": [
    "def printing(a,b):\n",
    "    print(a)\n",
    "    print(b)\n",
    "\n",
    "printing('cat', 'dog')\n"
   ]
  },
  {
   "cell_type": "code",
   "execution_count": 13,
   "metadata": {},
   "outputs": [
    {
     "ename": "SyntaxError",
     "evalue": "invalid syntax (1955140959.py, line 4)",
     "output_type": "error",
     "traceback": [
      "\u001b[0;36m  Cell \u001b[0;32mIn[13], line 4\u001b[0;36m\u001b[0m\n\u001b[0;31m    def showing scope():\u001b[0m\n\u001b[0m                ^\u001b[0m\n\u001b[0;31mSyntaxError\u001b[0m\u001b[0;31m:\u001b[0m invalid syntax\n"
     ]
    }
   ],
   "source": [
    "variable = 'this is global'\n",
    "print(variable)\n",
    "\n",
    "def showing_scope():\n",
    "\n",
    "    variable = 'This is local to a function'\n",
    "    print(variable)\n",
    "\n",
    "showing_scope()\n",
    "\n",
    "# print(variable)"
   ]
  },
  {
   "cell_type": "code",
   "execution_count": 18,
   "metadata": {},
   "outputs": [
    {
     "name": "stdout",
     "output_type": "stream",
     "text": [
      "Zero\n"
     ]
    }
   ],
   "source": [
    "user =int(input('Enter a number here: '))\n",
    "\n",
    "if (not user % 2) and (user < 0):\n",
    "    print('Negative Even')\n",
    "elif (user % 2 ) and (user < 0):\n",
    "    print('Negative Odd')\n",
    "elif user == 0:\n",
    "    print('Zero')\n",
    "elif ( not user % 2) and (user > 0):\n",
    "    print('Positive Even')\n",
    "elif (user % 2) and (user > 0):\n",
    "    print('Positive Odd')\n"
   ]
  },
  {
   "cell_type": "code",
   "execution_count": 31,
   "metadata": {},
   "outputs": [
    {
     "name": "stdout",
     "output_type": "stream",
     "text": [
      "7\n"
     ]
    }
   ],
   "source": [
    "user = int(input('Enter a number: '))\n",
    "\n",
    "if not user % 3 and not user % 5:\n",
    "    print('fizzbuzz')\n",
    "elif not user % 3:\n",
    "    print('fizz')\n",
    "elif not user % 5:\n",
    "    print('buzz')\n",
    "else:\n",
    "    print(user)\n",
    "\n"
   ]
  },
  {
   "cell_type": "code",
   "execution_count": 30,
   "metadata": {},
   "outputs": [
    {
     "data": {
      "text/plain": [
       "14"
      ]
     },
     "execution_count": 30,
     "metadata": {},
     "output_type": "execute_result"
    }
   ],
   "source": [
    "def domath(a,b,c):\n",
    "    return (a+b)*c\n",
    "\n",
    "domath(3,4,2)"
   ]
  },
  {
   "cell_type": "code",
   "execution_count": 1,
   "metadata": {},
   "outputs": [
    {
     "name": "stdout",
     "output_type": "stream",
     "text": [
      "1\n",
      "2\n",
      "3\n",
      "4\n",
      "5\n",
      "6\n",
      "7\n",
      "8\n",
      "9\n",
      "10\n"
     ]
    }
   ],
   "source": [
    "counter = 0\n",
    "\n",
    "while counter < 10:\n",
    "    counter = counter + 1\n",
    "    print(counter) \n"
   ]
  },
  {
   "cell_type": "code",
   "execution_count": 6,
   "metadata": {},
   "outputs": [
    {
     "name": "stdout",
     "output_type": "stream",
     "text": [
      "['Kat', 'john', 'sam']\n",
      "Kat\n",
      "john\n",
      "sam\n"
     ]
    }
   ],
   "source": [
    "lst = []\n",
    "\n",
    "while True: \n",
    "    name = input('Enter a name: ')\n",
    "    if name == 'stop':\n",
    "        break\n",
    "    lst.append(name)\n",
    "print(lst)\n",
    "\n",
    "for name in lst:\n",
    "    print(name)\n"
   ]
  },
  {
   "cell_type": "code",
   "execution_count": 5,
   "metadata": {},
   "outputs": [
    {
     "name": "stdout",
     "output_type": "stream",
     "text": [
      "w\n",
      "o\n",
      "r\n",
      "d\n"
     ]
    }
   ],
   "source": [
    "for char in 'word':\n",
    "    print(char)\n"
   ]
  },
  {
   "cell_type": "code",
   "execution_count": 11,
   "metadata": {},
   "outputs": [
    {
     "name": "stdout",
     "output_type": "stream",
     "text": [
      "111\n",
      "aaaaaa\n",
      "222\n",
      "bbbbbb\n",
      "333\n",
      "dddddd\n",
      "eeeeee\n"
     ]
    }
   ],
   "source": [
    "word_list = ['aaa', 'bbb', 'ccc', 'ddd', 'eee']\n",
    "\n",
    "for word in word_list:\n",
    "    if word == 'aaa':\n",
    "        print('111')\n",
    "        #continue\n",
    "    if word == 'bbb':\n",
    "        print('222')\n",
    "    if word == 'ccc':\n",
    "        print('333')\n",
    "    else: \n",
    "        print(word+word)\n",
    "\n",
    "    \n",
    "\n",
    "    "
   ]
  },
  {
   "cell_type": "code",
   "execution_count": 16,
   "metadata": {},
   "outputs": [
    {
     "name": "stdout",
     "output_type": "stream",
     "text": [
      "['a', 'b', 'c']\n"
     ]
    }
   ],
   "source": [
    "primes = ['a','b','c']\n",
    "print(primes[::1])"
   ]
  },
  {
   "cell_type": "code",
   "execution_count": 4,
   "metadata": {},
   "outputs": [
    {
     "name": "stdout",
     "output_type": "stream",
     "text": [
      "WIN\n"
     ]
    }
   ],
   "source": [
    "def guess_number(n):\n",
    "    user_input = 0\n",
    "    while user_input != n:\n",
    "        user_input = int(input(\"Guess a Number: \"))\n",
    "        if user_input > n:\n",
    "            print('too high')\n",
    "            continue\n",
    "        if user_input < n:\n",
    "            print('too low')\n",
    "            continue\n",
    "    else:\n",
    "        print('WIN')\n",
    "guess_number(23)"
   ]
  },
  {
   "cell_type": "code",
   "execution_count": 40,
   "metadata": {},
   "outputs": [
    {
     "data": {
      "text/plain": [
       "'bfim'"
      ]
     },
     "execution_count": 40,
     "metadata": {},
     "output_type": "execute_result"
    }
   ],
   "source": [
    "#CTFD10\n",
    "def leetstring(s):\n",
    "    up = s[1::2].upper()\n",
    "    low = up[0::2].lower()\n",
    "    return low\n",
    "leetstring('abcdefg HIJKLMNO')\n",
    "\n",
    "def foo(s):\n",
    "    ret = \"\"\n",
    "    i = True  # capitalize\n",
    "    for char in s:\n",
    "        if i:\n",
    "            ret += char.upper()\n",
    "        else:\n",
    "            ret += char.lower()\n",
    "        if char != ' ':\n",
    "            i = not i\n",
    "    return ret\n",
    "foo('abcdefHIJKL')"
   ]
  },
  {
   "cell_type": "code",
   "execution_count": 36,
   "metadata": {},
   "outputs": [
    {
     "name": "stdout",
     "output_type": "stream",
     "text": [
      "0\n",
      "2\n",
      "4\n",
      "6\n",
      "8\n",
      "1\n",
      "3\n",
      "5\n",
      "7\n",
      "9\n"
     ]
    }
   ],
   "source": [
    "#CTFD 11                    ******************\n",
    "def evensandodds(first,last):\n",
    "    lste = []\n",
    "    lsto = []\n",
    "    for number in range(first,last):\n",
    "        if number % 2 == 0:\n",
    "            lste.append(number)\n",
    "        else: \n",
    "            lsto.append(number)\n",
    "    for even in lste:\n",
    "        print(even)\n",
    "    for odd in lsto:\n",
    "        print(odd)\n",
    "evensandodds(0,10)\n"
   ]
  },
  {
   "cell_type": "code",
   "execution_count": 33,
   "metadata": {},
   "outputs": [
    {
     "data": {
      "text/plain": [
       "['cats', 'dogs', 'frogs']"
      ]
     },
     "execution_count": 33,
     "metadata": {},
     "output_type": "execute_result"
    }
   ],
   "source": [
    "#CTFD12\n",
    "def user_io():\n",
    "    user_input = input()\n",
    "    lst = []\n",
    "    while user_input != '':\n",
    "        lst.append(user_input)\n",
    "        user_input=input('')\n",
    "    return lst\n",
    "user_io()\n"
   ]
  },
  {
   "cell_type": "code",
   "execution_count": 29,
   "metadata": {},
   "outputs": [
    {
     "data": {
      "text/plain": [
       "(10, 20, 30, 40, 50, 60, 70, 80, 90, 100)"
      ]
     },
     "execution_count": 29,
     "metadata": {},
     "output_type": "execute_result"
    }
   ],
   "source": [
    "#CTFD13\n",
    "def make_tuple():\n",
    "    lst = []\n",
    "    for number in range(1,101):\n",
    "        if number % 10 == 0:\n",
    "            lst.append(number)\n",
    "    tuple1 = tuple(lst)\n",
    "    return tuple1\n",
    "make_tuple()"
   ]
  },
  {
   "cell_type": "code",
   "execution_count": 28,
   "metadata": {},
   "outputs": [
    {
     "data": {
      "text/plain": [
       "(0, 10, 20, 30, 40, 50, 60, 70, 80, 90)"
      ]
     },
     "execution_count": 28,
     "metadata": {},
     "output_type": "execute_result"
    }
   ],
   "source": [
    "#CTFD13-1                               ************************\n",
    "def make_tuple(a,b):\n",
    "    lst = []\n",
    "    for number in range(a,b):\n",
    "        if number % 10 == 0:\n",
    "            lst.append(number)\n",
    "    tuple1 = tuple(lst)\n",
    "    return tuple1\n",
    "make_tuple(0,100)\n"
   ]
  },
  {
   "cell_type": "code",
   "execution_count": 20,
   "metadata": {},
   "outputs": [
    {
     "name": "stdout",
     "output_type": "stream",
     "text": [
      "<class 'tuple'>\n"
     ]
    },
    {
     "data": {
      "text/plain": [
       "('', \"Physics is the universe's operating system\")"
      ]
     },
     "execution_count": 20,
     "metadata": {},
     "output_type": "execute_result"
    }
   ],
   "source": [
    "#CTFD14                               ********************************\n",
    "def string():\n",
    "    string1 = ''\n",
    "    string2 = 'Physics is the universe\\'s operating system'\n",
    "    lst = [string1,string2]\n",
    "    tpl = tuple(lst)\n",
    "    return tpl\n",
    "string()"
   ]
  },
  {
   "cell_type": "code",
   "execution_count": 18,
   "metadata": {},
   "outputs": [
    {
     "data": {
      "text/plain": [
       "(['Cats', 'Dogs'], ['Frogs', 'snakes'])"
      ]
     },
     "execution_count": 18,
     "metadata": {},
     "output_type": "execute_result"
    }
   ],
   "source": [
    "#CTFD15\n",
    "def disect(lst):\n",
    "    divider = int(len(lst) / 2)\n",
    "    l1 = lst[:divider]\n",
    "    l2 = lst[divider:]\n",
    "    return tuple([l1,l2])\n",
    "disect(['Cats','Dogs','Frogs', 'snakes'])\n",
    "\n"
   ]
  },
  {
   "cell_type": "code",
   "execution_count": 13,
   "metadata": {},
   "outputs": [
    {
     "data": {
      "text/plain": [
       "'llamehtnrub'"
      ]
     },
     "execution_count": 13,
     "metadata": {},
     "output_type": "execute_result"
    }
   ],
   "source": [
    "#CTFD16\n",
    "def reverse_string(strng):\n",
    "    resstring = strng[::-1]\n",
    "    return resstring\n",
    "reverse_string('burnthemall')"
   ]
  },
  {
   "cell_type": "code",
   "execution_count": 10,
   "metadata": {},
   "outputs": [
    {
     "data": {
      "text/plain": [
       "[99, 97, 116, 115]"
      ]
     },
     "execution_count": 10,
     "metadata": {},
     "output_type": "execute_result"
    }
   ],
   "source": [
    "#CTFD17\n",
    "def code_points(strng):\n",
    "    lst = []\n",
    "    for word in strng:\n",
    "        ordinal = ord(word)\n",
    "        lst.append(ordinal)\n",
    "    return lst\n",
    "code_points('cats')\n"
   ]
  },
  {
   "cell_type": "code",
   "execution_count": 63,
   "metadata": {},
   "outputs": [
    {
     "data": {
      "text/plain": [
       "[105,\n",
       " 116,\n",
       " 32,\n",
       " 108,\n",
       " 105,\n",
       " 116,\n",
       " 116,\n",
       " 108,\n",
       " 101,\n",
       " 32,\n",
       " 112,\n",
       " 114,\n",
       " 111,\n",
       " 102,\n",
       " 105,\n",
       " 116,\n",
       " 115]"
      ]
     },
     "execution_count": 63,
     "metadata": {},
     "output_type": "execute_result"
    }
   ],
   "source": [
    "a = 'It little profits'\n",
    "[ord(c) for c in a]\n",
    "\n",
    "a1 = a.lower()\n",
    "[ord(c) for c in a1]\n"
   ]
  },
  {
   "cell_type": "code",
   "execution_count": 85,
   "metadata": {},
   "outputs": [
    {
     "data": {
      "text/plain": [
       "['love', 'flamingo', 'word']"
      ]
     },
     "execution_count": 85,
     "metadata": {},
     "output_type": "execute_result"
    }
   ],
   "source": [
    "#CTFD 24\n",
    "\n",
    "def diffwords(fname, words):\n",
    "    with open(fname, 'r') as fn:\n",
    "        fstring = fn.read().strip()\n",
    "        fstring = fstring.replace('\\n', ' ')\n",
    "        flist = fstring.split(' ')\n",
    "        fset = set(flist)\n",
    "        wset = set(words)\n",
    "        diffwords = fset.difference(wset)\n",
    "        return list(diffwords)\n",
    "\n",
    "diffwords('blank.txt', ['cat','dog','eagle','frog'])\n"
   ]
  },
  {
   "cell_type": "code",
   "execution_count": 67,
   "metadata": {},
   "outputs": [
    {
     "data": {
      "text/plain": [
       "{'cat': 2,\n",
       " 'dog': 1,\n",
       " 'eagle': 2,\n",
       " 'frog': 3,\n",
       " 'flamingo': 2,\n",
       " 'word': 1,\n",
       " 'love': 1}"
      ]
     },
     "execution_count": 67,
     "metadata": {},
     "output_type": "execute_result"
    }
   ],
   "source": [
    "#CTFD 25\n",
    "\n",
    "def count_words(filepath):\n",
    "    with open(filepath, 'r') as fp:\n",
    "        dict1 = {}\n",
    "        fpstring = fp.read().replace('\\n', ' ')\n",
    "        fplist = fpstring.split()\n",
    "        for word in fplist:\n",
    "            dict1[word] = fplist.count(word)\n",
    "    return dict1\n",
    "\n",
    "count_words('blank.txt')\n"
   ]
  },
  {
   "cell_type": "code",
   "execution_count": null,
   "metadata": {},
   "outputs": [],
   "source": [
    "#CTFD 26\n",
    "\n",
    "def infinitearguments(*args, **kwargs):\n",
    "    # Print positional arguments\n",
    "    for arg in args:\n",
    "        print(arg)\n",
    "    \n",
    "    # Sort keyword arguments by key and print as key=value\n",
    "    for key in sorted(kwargs.keys()):\n",
    "        print(\"{}={}\".format(key, kwargs[key]))"
   ]
  },
  {
   "cell_type": "code",
   "execution_count": null,
   "metadata": {},
   "outputs": [],
   "source": [
    "#CTFD 26   Other Solution\n",
    "\n",
    "def read_file(filepath):\n",
    "    # Open file and read all lines into a list\n",
    "    with open(filepath, 'r') as file:\n",
    "        lines = file.readlines()\n",
    "    \n",
    "    # Remove linebreaks from each line\n",
    "    lines = [line.strip() for line in lines]\n",
    "    \n",
    "    # Sort the list in case-insensitive ASCII order\n",
    "    lines.sort(key=lambda x: x.lower())\n",
    "    \n",
    "    return lines"
   ]
  },
  {
   "cell_type": "code",
   "execution_count": 95,
   "metadata": {},
   "outputs": [
    {
     "data": {
      "text/plain": [
       "{3365: 'It little profits that an idle king,',\n",
       " 4388: 'By this still hearth, among these barren crags,',\n",
       " 3702: \"Match'd with an aged wife, I mete and dole\",\n",
       " 2999: 'Unequal laws unto a savage race,',\n",
       " 4281: 'That hoard, and sleep, and feed, and know not me.',\n",
       " 3647: 'I cannot rest from travel: I will drink',\n",
       " 3775: \"Life to the lees: All times I have enjoy'd\",\n",
       " 4430: \"Greatly, have suffer'd greatly, both with those\",\n",
       " 3910: 'That loved me, and alone, on shore, and when',\n",
       " 3651: \"'T is not too late to seek a newer world.\",\n",
       " 3220: 'Vext the dim sea: I am become a name;',\n",
       " 3667: 'For always roaming with a hungry heart',\n",
       " 3734: 'Much have I seen and known; cities of men',\n",
       " 4289: 'And manners, climates, councils, governments,',\n",
       " 3950: \"Myself not least, but honour'd of them all;\",\n",
       " 3926: 'And drunk delight of battle with my peers,',\n",
       " 3752: 'Far on the ringing plains of windy Troy.',\n",
       " 3004: 'I am a part of all that I have met;',\n",
       " 3771: \"Yet all experience is an arch wherethro'\",\n",
       " 4641: \"Gleams that untravell'd world whose margin fades\",\n",
       " 3045: 'For ever and forever when I move.',\n",
       " 3512: 'How dull it is to pause, to make an end,',\n",
       " 3766: \"To rust unburnish'd, not to shine in use!\",\n",
       " 4291: \"As tho' to breathe were life! Life piled on life\",\n",
       " 3319: 'Were all too little, and of one to me',\n",
       " 3738: 'Little remains: but every hour is saved',\n",
       " 4012: 'From that eternal silence, something more,',\n",
       " 3748: 'A bringer of new things; and vile it were',\n",
       " 4329: 'For some three suns to store and hoard myself,',\n",
       " 3753: 'And this gray spirit yearning in desire',\n",
       " 3797: 'To follow knowledge like a sinking star,',\n",
       " 3941: 'Beyond the utmost bound of human thought.',\n",
       " 0: '',\n",
       " 3338: 'This is my son, mine own Telemachus,',\n",
       " 20547: 'To whom I leave the sceptre and the isle,â€”',\n",
       " 3577: 'Well-loved of me, discerning to fulfil',\n",
       " 3942: 'This labour, by slow prudence to make mild',\n",
       " 3586: \"A rugged people, and thro' soft degrees\",\n",
       " 3609: 'Subdue them to the useful and the good.',\n",
       " 4020: 'Most blameless is he, centred in the sphere',\n",
       " 3355: 'Of common duties, decent not to fail',\n",
       " 3087: 'In offices of tenderness, and pay',\n",
       " 3449: 'Meet adoration to my household gods,',\n",
       " 3670: 'When I am gone. He works his work, I mine.',\n",
       " 4383: 'There lies the port; the vessel puffs her sail:',\n",
       " 4218: 'There gloom the dark, broad seas. My mariners,',\n",
       " 22008: \"Souls that have toil'd, and wrought, and thought with meâ€”\",\n",
       " 3432: 'That ever with a frolic welcome took',\n",
       " 3893: 'The thunder and the sunshine, and opposed',\n",
       " 20958: 'Free hearts, free foreheadsâ€”you and I are old;',\n",
       " 3756: 'Old age hath yet his honour and his toil;',\n",
       " 4059: 'Death closes all: but something ere the end,',\n",
       " 3696: 'Some work of noble note, may yet be done,',\n",
       " 3939: 'It may be that the gulfs will wash us down:',\n",
       " 4067: 'The lights begin to twinkle from the rocks:',\n",
       " 4601: 'The long day wanes: the slow moon climbs: the deep',\n",
       " 4379: 'Moans round with many voices. Come, my friends,',\n",
       " 3845: 'Push off, and sitting well in order smite',\n",
       " 4112: 'The sounding furrows; for my purpose holds',\n",
       " 3714: 'To sail beyond the sunset, and the baths',\n",
       " 3461: 'Of all the western stars, until I die.',\n",
       " 3757: 'It may be we shall touch the Happy Isles,',\n",
       " 3727: 'And see the great Achilles, whom we knew.',\n",
       " 3599: \"Tho' much is taken, much abides; and tho'\",\n",
       " 4307: 'We are not now that strength which in old days',\n",
       " 4472: 'Moved earth and heaven, that which we are, we are;',\n",
       " 3209: 'One equal temper of heroic hearts,',\n",
       " 4191: 'Made weak by time and fate, but strong in will',\n",
       " 4063: 'To strive, to seek, to find, and not to yield.'}"
      ]
     },
     "execution_count": 95,
     "metadata": {},
     "output_type": "execute_result"
    }
   ],
   "source": [
    "#CTFD27       Create a dictionary of the original strings with the caseinsensitive ascii value as the key\n",
    "def sort_ascii(filepath):\n",
    "    lst = []\n",
    "    dict1 = {}\n",
    "    with open(filepath, 'r') as fp:\n",
    "        for line in fp:\n",
    "            lineasci = 0\n",
    "            for char in line:\n",
    "                asci = [ord(c) for c in line.strip().lower()]\n",
    "                lineasci = sum(asci)\n",
    "                dict1[lineasci] = line.strip()\n",
    "        return dict1\n",
    "        #dict2 = sorted(dict1)\n",
    "        #return dict2\n",
    "                #lineasci = int(lineasci) + asci\n",
    "            #dict1 = dict(zip(lineasci, line))\n",
    "            #sortdict1 = sorted(dict1)\n",
    "            #print(dict1)\n",
    "            #print(asci)\n",
    "            #lst.append(asci)\n",
    "        #print(lst)\n",
    "        #return lst\n",
    "        #sortedlist = sorted(lst, key=)\n",
    "        #return sortedlist\n",
    "sort_ascii('Ulysses.txt')"
   ]
  },
  {
   "cell_type": "code",
   "execution_count": 49,
   "metadata": {},
   "outputs": [
    {
     "data": {
      "text/plain": [
       "['asdfasdf', 'adfasdf', 'ddss', 'abc', 'a']"
      ]
     },
     "execution_count": 49,
     "metadata": {},
     "output_type": "execute_result"
    }
   ],
   "source": [
    "#CTFD28 ###########################################################\n",
    "\n",
    "def sort_length(filepath):\n",
    "    lst = []\n",
    "    with open(filepath, 'r') as fp:\n",
    "        lines = fp.readlines()\n",
    "        for line in lines:\n",
    "            lst.append(line.strip())\n",
    "        sortlines = sorted(lst, key=len, reverse = True)\n",
    "        return sortlines\n",
    "sort_length('simple.txt')\n",
    "        \n"
   ]
  },
  {
   "cell_type": "code",
   "execution_count": 113,
   "metadata": {},
   "outputs": [
    {
     "data": {
      "text/plain": [
       "('0b10', '0o2', '0x2')"
      ]
     },
     "execution_count": 113,
     "metadata": {},
     "output_type": "execute_result"
    }
   ],
   "source": [
    "#CTFD120p1   #################################################\n",
    "\n",
    "def numsys(startint):\n",
    "    binary = bin(startint)\n",
    "    octal = oct(startint)\n",
    "    hexi = hex(startint)\n",
    "    return (binary, octal, hexi)\n",
    "numsys(2)\n"
   ]
  },
  {
   "cell_type": "code",
   "execution_count": 16,
   "metadata": {},
   "outputs": [],
   "source": [
    "#CTFD120p2\n",
    "\n",
    "def getints(binnum, octnum, decnum, hexnum):\n",
    "    lst = [int(binnum, 2), int(octnum, 8), int(decnum, 10), int(hexnum, 16)]\n",
    "    return lst\n"
   ]
  },
  {
   "cell_type": "code",
   "execution_count": 114,
   "metadata": {},
   "outputs": [
    {
     "data": {
      "text/plain": [
       "['0b11110100001001000000', '0o3641100', '0xf4240', 1000000.0]"
      ]
     },
     "execution_count": 114,
     "metadata": {},
     "output_type": "execute_result"
    }
   ],
   "source": [
    "#CTFD120p3################################################\n",
    "\n",
    "def literals():\n",
    "    m = 1000000\n",
    "    binary = bin(m)\n",
    "    octal = oct(m)\n",
    "    hexi = hex(m)\n",
    "    deci = m\n",
    "    lst = [binary, octal, hexi, deci]\n",
    "    return lst\n",
    "\n",
    "literals()"
   ]
  },
  {
   "cell_type": "code",
   "execution_count": 73,
   "metadata": {},
   "outputs": [
    {
     "data": {
      "text/plain": [
       "[3.2, 3222.4]"
      ]
     },
     "execution_count": 73,
     "metadata": {},
     "output_type": "execute_result"
    }
   ],
   "source": [
    "#CTFD PV1 01\n",
    "\n",
    "def q1(floatstr):\n",
    "    lst2 = []\n",
    "    lst = floatstr.split(',')\n",
    "    for item in lst:\n",
    "        item2 = float(item)\n",
    "        lst2.append(item2)\n",
    "    return lst2\n",
    "q1('3.2,3222.4')\n"
   ]
  },
  {
   "cell_type": "code",
   "execution_count": 85,
   "metadata": {},
   "outputs": [
    {
     "data": {
      "text/plain": [
       "2.5"
      ]
     },
     "execution_count": 85,
     "metadata": {},
     "output_type": "execute_result"
    }
   ],
   "source": [
    "#CTFD PV1 02\n",
    "\n",
    "def q1(*args):\n",
    "    lst = args\n",
    "    average = sum(args) / len(lst)\n",
    "    return average\n",
    "\n",
    "\n",
    "q1(1, 2, 3, 4)"
   ]
  },
  {
   "cell_type": "code",
   "execution_count": 98,
   "metadata": {},
   "outputs": [
    {
     "data": {
      "text/plain": [
       "['d', 'e', 'f']"
      ]
     },
     "execution_count": 98,
     "metadata": {},
     "output_type": "execute_result"
    }
   ],
   "source": [
    "#CTFD PV1 03\n",
    "\n",
    "def q1(lst, n):\n",
    "    lst1 = lst[::-1]\n",
    "    lst2 = lst1[0:n]\n",
    "    lst3 = lst2[::-1]\n",
    "    return lst3\n",
    "\n",
    "q1(['b','c','d','e','f'], 3)\n"
   ]
  },
  {
   "cell_type": "code",
   "execution_count": null,
   "metadata": {},
   "outputs": [],
   "source": [
    "#CTFD PV1 04\n",
    "\n",
    "def q1(strng):\n",
    "    lst = []\n",
    "    for char in strng:\n",
    "        ordinal = ord(char)\n",
    "        lst.append(ordinal)\n",
    "    return lst\n"
   ]
  },
  {
   "cell_type": "code",
   "execution_count": 1,
   "metadata": {},
   "outputs": [
    {
     "data": {
      "text/plain": [
       "('The', 'world', 'is', 'the', 'world', 'is')"
      ]
     },
     "execution_count": 1,
     "metadata": {},
     "output_type": "execute_result"
    }
   ],
   "source": [
    "#CTFDPV105\n",
    "def q1(strng):\n",
    "    words = strng.split()\n",
    "    wordtup = tuple(words)\n",
    "    return wordtup\n",
    "\n",
    "q1('The world is the world is')\n",
    "\n"
   ]
  },
  {
   "cell_type": "code",
   "execution_count": 6,
   "metadata": {},
   "outputs": [
    {
     "data": {
      "text/plain": [
       "36"
      ]
     },
     "execution_count": 6,
     "metadata": {},
     "output_type": "execute_result"
    }
   ],
   "source": [
    "#CTFD PV1 07\n",
    "\n",
    "def q1(filename):\n",
    "    with open(filename, 'r') as fn:\n",
    "        line1 = fn.readline().strip()\n",
    "        return len(line1)\n",
    "\n",
    "q1('Ulysses.txt')"
   ]
  },
  {
   "cell_type": "code",
   "execution_count": 23,
   "metadata": {},
   "outputs": [],
   "source": [
    "#CTFD PV1 08\n",
    "\n",
    "def q1(filename, lst):\n",
    "    with open(filename, 'a') as fn:\n",
    "        nlst = []\n",
    "        for item in lst:\n",
    "            if str(item).lower() != 'stop':\n",
    "                nlst.append(item +'\\n')\n",
    "            else:\n",
    "                break\n",
    "        fn.writelines(nlst)\n",
    "\n",
    "q1('blank.txt', ['cat', 'dog', 'frog', 'stop', 'flamingo'])\n",
    "\n"
   ]
  },
  {
   "cell_type": "code",
   "execution_count": 83,
   "metadata": {},
   "outputs": [
    {
     "data": {
      "text/plain": [
       "'Good Night'"
      ]
     },
     "execution_count": 83,
     "metadata": {},
     "output_type": "execute_result"
    }
   ],
   "source": [
    "#CTFD PV1 09\n",
    "def q1(miltime):\n",
    "    miltime = int(miltime)\n",
    "    if miltime > 300 and miltime < 1159:\n",
    "        return 'Good Morning'\n",
    "    if miltime > 1200 and miltime < 1559:\n",
    "        return 'Good Afternoon'\n",
    "    if miltime > 1600 and miltime < 2059:\n",
    "        return 'Good Evening'\n",
    "    if miltime < 259 or miltime > 2100:\n",
    "        return \"Good Night\"\n",
    "\n",
    "q1('0100')\n"
   ]
  },
  {
   "cell_type": "code",
   "execution_count": 112,
   "metadata": {},
   "outputs": [
    {
     "name": "stdout",
     "output_type": "stream",
     "text": [
      "4\n"
     ]
    },
    {
     "data": {
      "text/plain": [
       "'Good Morning'"
      ]
     },
     "execution_count": 112,
     "metadata": {},
     "output_type": "execute_result"
    }
   ],
   "source": [
    "def q1(miltime): #create the function name with variable \n",
    "    hour = int(miltime[:2]) # This line takes the first two characters from the string and converts it to an integer... the rest is pretty simple if, elif, else\n",
    "    print(hour)\n",
    "    if hour >= 3 and hour < 12: \n",
    "        return \"Good Morning\"\n",
    "    elif hour >= 12 and hour < 16:\n",
    "        return \"Good Afternoon\"\n",
    "    elif hour >= 16 and hour < 21:\n",
    "        return \"Good Evening\"\n",
    "    else:\n",
    "        return \"Good Night\"\n",
    "q1('0400')"
   ]
  },
  {
   "cell_type": "code",
   "execution_count": 29,
   "metadata": {},
   "outputs": [
    {
     "data": {
      "text/plain": [
       "'True'"
      ]
     },
     "execution_count": 29,
     "metadata": {},
     "output_type": "execute_result"
    }
   ],
   "source": [
    "#CTFD PV1 10\n",
    "\n",
    "def q1(numlist):\n",
    "    lst = []\n",
    "    for num in numlist:\n",
    "        if num < 0:\n",
    "            return False\n",
    "        else:\n",
    "            lst.append(num)\n",
    "    return True\n",
    "\n",
    "     \n",
    "q1([1,2,3,4,5])"
   ]
  },
  {
   "cell_type": "code",
   "execution_count": 102,
   "metadata": {},
   "outputs": [
    {
     "data": {
      "text/plain": [
       "2540.45"
      ]
     },
     "execution_count": 102,
     "metadata": {},
     "output_type": "execute_result"
    }
   ],
   "source": [
    "#CTFD PV1 06\n",
    "\n",
    "def q6(menu, order):\n",
    "    totalprice = 0.0\n",
    "    for menu_item_and_quantity in order:\n",
    "        menu_item = menu_item_and_quantity[0]\n",
    "        item_qty = menu_item_and_quantity[1]\n",
    "        item_price = menu[menu_item]\n",
    "        total_price_peritem = item_price * item_qty\n",
    "        totalprice += total_price_peritem\n",
    "    return totalprice\n",
    "    \n",
    "q6({'AMD Ryzen 5 5600X': 289.99,'Intel Core i9-9900K': 363.50,'AMD Ryzen 9 5900X': 569.99},[('AMD Ryzen 5 5600X', 5), ('Intel Core i9-9900K', 3)])\n",
    "\n"
   ]
  },
  {
   "cell_type": "code",
   "execution_count": 99,
   "metadata": {},
   "outputs": [
    {
     "name": "stdout",
     "output_type": "stream",
     "text": [
      "289.99\n"
     ]
    }
   ],
   "source": [
    "dict1 = {'AMD Ryzen 5 5600X': 289.99,'Intel Core i9-9900K': 363.50,'AMD Ryzen 9 5900X': 569.99}\n",
    "print(dict1['AMD Ryzen 5 5600X'])"
   ]
  },
  {
   "cell_type": "code",
   "execution_count": 21,
   "metadata": {},
   "outputs": [
    {
     "name": "stdout",
     "output_type": "stream",
     "text": [
      " is world The\n",
      "<class 'str'>\n"
     ]
    }
   ],
   "source": [
    "#CTFD PV2 01\n",
    "\n",
    "def q1(sentence):\n",
    "    done = ''\n",
    "    words = sentence.split()\n",
    "    rev = words[::-1]\n",
    "    for word in rev:\n",
    "        done += ' '+ word\n",
    "    print(done)\n",
    "    print(type(done))\n",
    "    \n",
    "\n",
    "    #return ' ' .join(rev)\n",
    "\n",
    "q1('The world is')\n"
   ]
  },
  {
   "cell_type": "code",
   "execution_count": 25,
   "metadata": {},
   "outputs": [
    {
     "data": {
      "text/plain": [
       "'1,000,000,000,000,000,000'"
      ]
     },
     "execution_count": 25,
     "metadata": {},
     "output_type": "execute_result"
    }
   ],
   "source": [
    "#CTFD PV2 02\n",
    "\n",
    "def q1(n):\n",
    "    return f'{n:,}'\n",
    "q1(1000000000000000000)"
   ]
  },
  {
   "cell_type": "code",
   "execution_count": 28,
   "metadata": {},
   "outputs": [
    {
     "data": {
      "text/plain": [
       "[6, 5, 4, 3, 2, 1]"
      ]
     },
     "execution_count": 28,
     "metadata": {},
     "output_type": "execute_result"
    }
   ],
   "source": [
    "#CTFD PV2 03\n",
    "\n",
    "def q1(lst0, lst1):\n",
    "    lst = []\n",
    "    for item in lst0:\n",
    "        lst.append(item)\n",
    "    for item in lst1:\n",
    "        lst.append(item)\n",
    "    sortedlst = sorted(lst, reverse = True)\n",
    "    return sortedlst\n",
    "\n",
    "q1([1,2,3],[4,5,6])\n"
   ]
  },
  {
   "cell_type": "code",
   "execution_count": null,
   "metadata": {},
   "outputs": [],
   "source": [
    "#CTFD PV2 04\n",
    "\n",
    "def q1(s1,s2,s3):\n",
    "    if (s1 + s2 + s3)/3 > 50:\n",
    "        return 'GO'\n",
    "    else:\n",
    "        return 'NOGO'"
   ]
  },
  {
   "cell_type": "code",
   "execution_count": 29,
   "metadata": {},
   "outputs": [
    {
     "data": {
      "text/plain": [
       "[0, 6, 12, 18, 24, 30]"
      ]
     },
     "execution_count": 29,
     "metadata": {},
     "output_type": "execute_result"
    }
   ],
   "source": [
    "#CTFD PV2 05\n",
    "\n",
    "def q1(integer, limit):\n",
    "    lst = []\n",
    "    for num in range(limit + 1):\n",
    "        if num % integer == 0 and num % 2 == 0:\n",
    "            lst.append(num)\n",
    "    return lst\n",
    "\n",
    "q1(3, 30)"
   ]
  },
  {
   "cell_type": "code",
   "execution_count": 42,
   "metadata": {},
   "outputs": [
    {
     "data": {
      "text/plain": [
       "7"
      ]
     },
     "execution_count": 42,
     "metadata": {},
     "output_type": "execute_result"
    }
   ],
   "source": [
    "#CTFD PV2 07\n",
    "\n",
    "def q1(lst):\n",
    "    set1 = set()\n",
    "    for num in lst: \n",
    "        if num in set1:\n",
    "            return num\n",
    "        else: \n",
    "            set1.add(num)\n",
    "\n",
    "        \n",
    "q1([5,7,9,1,3,7,9,5])\n",
    "    "
   ]
  },
  {
   "cell_type": "code",
   "execution_count": null,
   "metadata": {},
   "outputs": [],
   "source": [
    "#CTFD PV2 08\n",
    "\n",
    "def q1(string):\n",
    "    lst = string.split()\n",
    "    lst = sorted(lst, key = len)\n",
    "    return len(lst[0])\n",
    "\n",
    "        "
   ]
  },
  {
   "cell_type": "code",
   "execution_count": 69,
   "metadata": {},
   "outputs": [
    {
     "data": {
      "text/plain": [
       "'a'"
      ]
     },
     "execution_count": 69,
     "metadata": {},
     "output_type": "execute_result"
    }
   ],
   "source": [
    "#CTFD PV2 09\n",
    "\n",
    "def q1(strng):\n",
    "    number = ''\n",
    "    for char in strng:\n",
    "        if char.isdigit() == True:\n",
    "             number += char\n",
    "    return chr(int(number))\n",
    "q1('hell9oworld7')\n"
   ]
  },
  {
   "cell_type": "code",
   "execution_count": 56,
   "metadata": {},
   "outputs": [
    {
     "name": "stdout",
     "output_type": "stream",
     "text": [
      "97\n"
     ]
    }
   ],
   "source": [
    "print(ord('a'))\n"
   ]
  },
  {
   "cell_type": "code",
   "execution_count": 39,
   "metadata": {},
   "outputs": [
    {
     "data": {
      "text/plain": [
       "6"
      ]
     },
     "execution_count": 39,
     "metadata": {},
     "output_type": "execute_result"
    }
   ],
   "source": [
    "#CTFD PV2 10\n",
    "\n",
    "def q1(arr):\n",
    "    for num in range(len(arr)):\n",
    "        if num != 0:\n",
    "            if int(arr[num]) - int(arr[num - 1]) != 1:\n",
    "                return arr[num]\n",
    "\n",
    "q1([1,2,3,4,6,7])"
   ]
  },
  {
   "cell_type": "code",
   "execution_count": 80,
   "metadata": {},
   "outputs": [
    {
     "data": {
      "text/plain": [
       "['ab', 'cd', 'ef', 'gh', 'ij']"
      ]
     },
     "execution_count": 80,
     "metadata": {},
     "output_type": "execute_result"
    }
   ],
   "source": [
    "#list example\n",
    "\n",
    "def listupper(lst):\n",
    "    #for num in range(len(lst)):\n",
    "     #   if num < 3:\n",
    "    #        lst[num] = lst[num].upper()\n",
    "   # return lst\n",
    "\n",
    "#listupper(['ab', 'cd', 'ef', 'gh' , 'ij'])\n",
    "    counter = 0\n",
    "    while counter < 3:\n",
    "        for str in lst:\n",
    "            str = str.upper()\n",
    "            counter += 1 \n",
    "        return(lst)\n",
    "listupper(['ab', 'cd', 'ef', 'gh' , 'ij'])\n",
    "\n"
   ]
  },
  {
   "cell_type": "code",
   "execution_count": null,
   "metadata": {},
   "outputs": [],
   "source": [
    "class TicTacToe:\n",
    "    def __init__(self):\n",
    "        self.board = [[0]]"
   ]
  },
  {
   "cell_type": "code",
   "execution_count": null,
   "metadata": {},
   "outputs": [],
   "source": [
    "To implement the TicTacToe class with the given characteristics, we can use a 2D list to represent the game board, where each element in the list corresponds to a cell on the board. We can initialize the board to all zeroes to indicate that no player has made a move on any cell yet. We can also keep track of the current player using a variable.\n",
    "\n",
    "Here's an implementation of the TicTacToe class with the required characteristics:\n",
    "\n",
    "python\n",
    "Copy code\n",
    "class TicTacToe:\n",
    "    def __init__(self):\n",
    "        # Initialize the board to all zeroes\n",
    "        self.board = [[0, 0, 0], [0, 0, 0], [0, 0, 0]]\n",
    "        # Initialize the current player to player 1\n",
    "        self.current_player = 1\n",
    "\n",
    "    def move(self, row, col):\n",
    "        # Check if the move is valid\n",
    "        if row < 0 or row > 2 or col < 0 or col > 2 or self.board[row][col] != 0:\n",
    "            raise Exception(\"Invalid move\")\n",
    "\n",
    "        # Make the move by updating the board\n",
    "        self.board[row][col] = self.current_player\n",
    "\n",
    "        # Check if the move results in a win for the current player\n",
    "        if self.check_win():\n",
    "            return self.current_player\n",
    "\n",
    "        # Check if the move results in a draw\n",
    "        if self.check_draw():\n",
    "            return 0\n",
    "\n",
    "        # Switch to the other player\n",
    "        self.current_player = 3 - self.current_player\n",
    "\n",
    "        # Return None to indicate that the move was valid but did not result in a win or a draw\n",
    "        return None\n",
    "\n",
    "    def check_win(self):\n",
    "        # Check rows\n",
    "        for row in range(3):\n",
    "            if self.board[row][0] == self.board[row][1] == self.board[row][2] != 0:\n",
    "                return True\n",
    "\n",
    "        # Check columns\n",
    "        for col in range(3):\n",
    "            if self.board[0][col] == self.board[1][col] == self.board[2][col] != 0:\n",
    "                return True\n",
    "\n",
    "        # Check diagonals\n",
    "        if self.board[0][0] == self.board[1][1] == self.board[2][2] != 0:\n",
    "            return True\n",
    "\n",
    "        if self.board[0][2] == self.board[1][1] == self.board[2][0] != 0:\n",
    "            return True\n",
    "\n",
    "        # No win found\n",
    "        return False\n",
    "\n",
    "    def check_draw(self):\n",
    "        # Check if all cells are filled\n",
    "        for row in range(3):\n",
    "            for col in range(3):\n",
    "                if self.board[row][col] == 0:\n",
    "                    return False\n",
    "        # If all cells are filled and no win is found, it's a draw\n",
    "        return True\n",
    "In the move method, we first check if the move is valid by verifying that the specified row and column are within the board boundaries and the corresponding cell is not already occupied. If the move is valid, we update the board by setting the cell to the current player's number (1 or 2).\n",
    "\n",
    "Next, we check if the move results in a win for the current player by calling the check_win method. If so, we return the current player's number.\n",
    "\n",
    "If the move doesn't result in a win, we check if it results in a draw by calling the check_draw method. If so, we return 0 to indicate a draw.\n",
    "\n",
    "If the move is valid but doesn't result in a win or a draw, we switch to the other player and return None.\n",
    "\n",
    "The check_win method checks all rows, columns, and diagonals to see if"
   ]
  },
  {
   "cell_type": "code",
   "execution_count": null,
   "metadata": {},
   "outputs": [],
   "source": [
    "Create a class named Polygon that will represent a polygon shape:\n",
    "\n",
    "You will add angles to the Polygon using an add_angle member function that will accept a single integer angle\n",
    "A remove_angle member function will remove a single provided angle value from the Polygon\n",
    "If a provided or computed last angle is invalid (angle < 0; angle == 180; angle > 359) a ValueError must be raised. A ValueError must also be raised if an attempt to remove an angle that is not part of the polygon is requested. If an invalid polygon is requested to be represented as a string, a ValueError must be raised.\n",
    "When an instance of Polygon is converted to a string, it will first have the name of the polygon followed by the angles: 'pentagon: [90, 90, 135, 90, 135]'\n",
    "NOTE: The Polygon represented by this class must always compute the final angle. A triangle will only have 2 angles added through add_angle List of possible polygon names:\n",
    "Angles\tName\tAngles\tName\n",
    "3\ttriangle\t12\tdodecagon\n",
    "4\tquadrilateral\t13\ttridecagon\n",
    "5\tpentagon\t14\ttetradecagon\n",
    "6\thexagon\t15\tpentadecagon\n",
    "7\tseptagon\t16\thexadecagon\n",
    "8\toctagon\t17\theptadecagon\n",
    "9\tnonagon\t18\toctadecagon\n",
    "10\tdecagon\t19\tenneadecagon\n",
    "11\tundecagon\t20\ticosagon\n",
    "\n",
    "class Polygon:\n",
    "    def __init__(self):\n",
    "        pass\n",
    "    def add_angle(self, a):\n",
    "        pass\n",
    "    def remove_angle(self, a):\n",
    "        pass\n",
    "    def __str__(self):\n",
    "        pass\n",
    "Here's an implementation of the Polygon class based on the specifications provided:\n",
    "\n",
    "python\n",
    "Copy code\n",
    "class Polygon:\n",
    "    def __init__(self, name, sides):\n",
    "        self.name = name\n",
    "        self.sides = sides\n",
    "        self.angles = []\n",
    "        \n",
    "    def add_angle(self, a):\n",
    "        if a < 0 or a == 180 or a > 359:\n",
    "            raise ValueError('Invalid angle')\n",
    "        if len(self.angles) == self.sides - 1:\n",
    "            last_angle = 180 - sum(self.angles)\n",
    "            if last_angle < 0 or last_angle == 180 or last_angle > 359:\n",
    "                raise ValueError('Invalid polygon')\n",
    "            self.angles.append(last_angle)\n",
    "        self.angles.append(a)\n",
    "        \n",
    "    def remove_angle(self, a):\n",
    "        if a not in self.angles:\n",
    "            raise ValueError('Angle not in polygon')\n",
    "        self.angles.remove(a)\n",
    "        \n",
    "    def __str__(self):\n",
    "        if len(self.angles) != self.sides:\n",
    "            raise ValueError('Invalid polygon')\n",
    "        return f'{self.name}: {self.angles}'\n",
    "To create an instance of a pentagon and add angles to it, you can do the following:\n",
    "\n",
    "scss\n",
    "Copy code\n",
    "p = Polygon('pentagon', 5)\n",
    "p.add_angle(90)\n",
    "p.add_angle(90)\n",
    "p.add_angle(135)\n",
    "p.add_angle(90)\n",
    "p.add_angle(135)\n",
    "print(p) # output: pentagon: [90, 90, 135, 90, 135]\n",
    "You can also remove an angle from the polygon:\n",
    "\n",
    "scss\n",
    "Copy code\n",
    "p.remove_angle(90)\n",
    "print(p) # output: pentagon: [90, 135, 90, 135]\n",
    "If you try to add an invalid angle or remove an angle that is not part of the polygon, a ValueError will be raised:\n",
    "\n",
    "python\n",
    "Copy code\n",
    "p.add_angle(180) # ValueError: Invalid angle\n",
    "p.remove_angle(100) # ValueError: Angle not in polygon\n",
    "If you try to convert an invalid polygon to a string, a ValueError will also be raised:\n",
    "\n",
    "scss\n",
    "Copy code\n",
    "q = Polygon('quadrilateral', 4)\n",
    "q.add_angle(90)\n",
    "print(q) # ValueError: Invalid polygon"
   ]
  }
 ],
 "metadata": {
  "kernelspec": {
   "display_name": "Python 3",
   "language": "python",
   "name": "python3"
  },
  "language_info": {
   "codemirror_mode": {
    "name": "ipython",
    "version": 3
   },
   "file_extension": ".py",
   "mimetype": "text/x-python",
   "name": "python",
   "nbconvert_exporter": "python",
   "pygments_lexer": "ipython3",
   "version": "3.10.10"
  },
  "orig_nbformat": 4,
  "vscode": {
   "interpreter": {
    "hash": "e901d1afdda5cf00615b03332ec10a9cec199adbbf6f817509bac76f70b4bed7"
   }
  }
 },
 "nbformat": 4,
 "nbformat_minor": 2
}
