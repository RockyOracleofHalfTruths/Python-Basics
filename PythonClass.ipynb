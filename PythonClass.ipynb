{
 "cells": [
  {
   "cell_type": "code",
   "execution_count": null,
   "metadata": {},
   "outputs": [],
   "source": [
    "#9Ge%z7Vn]~@<!bL+X-BlH"
   ]
  },
  {
   "cell_type": "code",
   "execution_count": 1,
   "metadata": {},
   "outputs": [
    {
     "name": "stdout",
     "output_type": "stream",
     "text": [
      "correct that is the number\n"
     ]
    }
   ],
   "source": [
    "number = 10\n",
    "\n",
    "if number == 10:\n",
    "    print('correct that is the number')"
   ]
  },
  {
   "cell_type": "code",
   "execution_count": 2,
   "metadata": {},
   "outputs": [
    {
     "name": "stdout",
     "output_type": "stream",
     "text": [
      "Wrong, that is not a number\n"
     ]
    }
   ],
   "source": [
    "user =input('Enter a number here: ')\n",
    "\n",
    "if user.isdigit():\n",
    "    print('Yes, that is a number')\n",
    "else: \n",
    "    print('Wrong, that is not a number')"
   ]
  },
  {
   "cell_type": "code",
   "execution_count": 3,
   "metadata": {},
   "outputs": [
    {
     "name": "stdout",
     "output_type": "stream",
     "text": [
      "fizz\n",
      "buzz\n"
     ]
    }
   ],
   "source": [
    "user = int(input('Enter a number: '))\n",
    "\n",
    "if not user % 3:\n",
    "    print('fizz')\n",
    "if not user % 5:\n",
    "    print('buzz')\n",
    "if user % 3 and user % 5:\n",
    "    print('user')"
   ]
  },
  {
   "cell_type": "code",
   "execution_count": 8,
   "metadata": {},
   "outputs": [
    {
     "name": "stdout",
     "output_type": "stream",
     "text": [
      "<class 'int'>\n"
     ]
    }
   ],
   "source": [
    "a = 10 % 3\n",
    "print(type(a))"
   ]
  },
  {
   "cell_type": "code",
   "execution_count": 11,
   "metadata": {},
   "outputs": [
    {
     "name": "stdout",
     "output_type": "stream",
     "text": [
      "cat\n",
      "dog\n"
     ]
    }
   ],
   "source": [
    "def printing(a,b):\n",
    "    print(a)\n",
    "    print(b)\n",
    "\n",
    "printing('cat', 'dog')\n"
   ]
  },
  {
   "cell_type": "code",
   "execution_count": 13,
   "metadata": {},
   "outputs": [
    {
     "ename": "SyntaxError",
     "evalue": "invalid syntax (1955140959.py, line 4)",
     "output_type": "error",
     "traceback": [
      "\u001b[0;36m  Cell \u001b[0;32mIn[13], line 4\u001b[0;36m\u001b[0m\n\u001b[0;31m    def showing scope():\u001b[0m\n\u001b[0m                ^\u001b[0m\n\u001b[0;31mSyntaxError\u001b[0m\u001b[0;31m:\u001b[0m invalid syntax\n"
     ]
    }
   ],
   "source": [
    "variable = 'this is global'\n",
    "print(variable)\n",
    "\n",
    "def showing_scope():\n",
    "\n",
    "    variable = 'This is local to a function'\n",
    "    print(variable)\n",
    "\n",
    "showing_scope()\n",
    "\n",
    "# print(variable)"
   ]
  },
  {
   "cell_type": "code",
   "execution_count": 18,
   "metadata": {},
   "outputs": [
    {
     "name": "stdout",
     "output_type": "stream",
     "text": [
      "Zero\n"
     ]
    }
   ],
   "source": [
    "user =int(input('Enter a number here: '))\n",
    "\n",
    "if (not user % 2) and (user < 0):\n",
    "    print('Negative Even')\n",
    "elif (user % 2 ) and (user < 0):\n",
    "    print('Negative Odd')\n",
    "elif user == 0:\n",
    "    print('Zero')\n",
    "elif ( not user % 2) and (user > 0):\n",
    "    print('Positive Even')\n",
    "elif (user % 2) and (user > 0):\n",
    "    print('Positive Odd')\n"
   ]
  },
  {
   "cell_type": "code",
   "execution_count": 31,
   "metadata": {},
   "outputs": [
    {
     "name": "stdout",
     "output_type": "stream",
     "text": [
      "7\n"
     ]
    }
   ],
   "source": [
    "user = int(input('Enter a number: '))\n",
    "\n",
    "if not user % 3 and not user % 5:\n",
    "    print('fizzbuzz')\n",
    "elif not user % 3:\n",
    "    print('fizz')\n",
    "elif not user % 5:\n",
    "    print('buzz')\n",
    "else:\n",
    "    print(user)\n",
    "\n"
   ]
  },
  {
   "cell_type": "code",
   "execution_count": 30,
   "metadata": {},
   "outputs": [
    {
     "data": {
      "text/plain": [
       "14"
      ]
     },
     "execution_count": 30,
     "metadata": {},
     "output_type": "execute_result"
    }
   ],
   "source": [
    "def domath(a,b,c):\n",
    "    return (a+b)*c\n",
    "\n",
    "domath(3,4,2)"
   ]
  },
  {
   "cell_type": "code",
   "execution_count": 1,
   "metadata": {},
   "outputs": [
    {
     "name": "stdout",
     "output_type": "stream",
     "text": [
      "1\n",
      "2\n",
      "3\n",
      "4\n",
      "5\n",
      "6\n",
      "7\n",
      "8\n",
      "9\n",
      "10\n"
     ]
    }
   ],
   "source": [
    "counter = 0\n",
    "\n",
    "while counter < 10:\n",
    "    counter = counter + 1\n",
    "    print(counter)\n"
   ]
  },
  {
   "cell_type": "code",
   "execution_count": 6,
   "metadata": {},
   "outputs": [
    {
     "name": "stdout",
     "output_type": "stream",
     "text": [
      "['Kat', 'john', 'sam']\n",
      "Kat\n",
      "john\n",
      "sam\n"
     ]
    }
   ],
   "source": [
    "lst = []\n",
    "\n",
    "while True: \n",
    "    name = input('Enter a name: ')\n",
    "    if name == 'stop':\n",
    "        break\n",
    "    lst.append(name)\n",
    "print(lst)\n",
    "\n",
    "for name in lst:\n",
    "    print(name)\n"
   ]
  },
  {
   "cell_type": "code",
   "execution_count": 5,
   "metadata": {},
   "outputs": [
    {
     "name": "stdout",
     "output_type": "stream",
     "text": [
      "w\n",
      "o\n",
      "r\n",
      "d\n"
     ]
    }
   ],
   "source": [
    "for char in 'word':\n",
    "    print(char)\n"
   ]
  },
  {
   "cell_type": "code",
   "execution_count": 11,
   "metadata": {},
   "outputs": [
    {
     "name": "stdout",
     "output_type": "stream",
     "text": [
      "111\n",
      "aaaaaa\n",
      "222\n",
      "bbbbbb\n",
      "333\n",
      "dddddd\n",
      "eeeeee\n"
     ]
    }
   ],
   "source": [
    "word_list = ['aaa', 'bbb', 'ccc', 'ddd', 'eee']\n",
    "\n",
    "for word in word_list:\n",
    "    if word == 'aaa':\n",
    "        print('111')\n",
    "        #continue\n",
    "    if word == 'bbb':\n",
    "        print('222')\n",
    "    if word == 'ccc':\n",
    "        print('333')\n",
    "    else: \n",
    "        print(word+word)\n",
    "\n",
    "    \n",
    "\n",
    "    "
   ]
  },
  {
   "cell_type": "code",
   "execution_count": 16,
   "metadata": {},
   "outputs": [
    {
     "name": "stdout",
     "output_type": "stream",
     "text": [
      "['a', 'b', 'c']\n"
     ]
    }
   ],
   "source": [
    "primes = ['a','b','c']\n",
    "print(primes[::1])"
   ]
  },
  {
   "cell_type": "code",
   "execution_count": 4,
   "metadata": {},
   "outputs": [
    {
     "name": "stdout",
     "output_type": "stream",
     "text": [
      "WIN\n"
     ]
    }
   ],
   "source": [
    "def guess_number(n):\n",
    "    user_input = 0\n",
    "    while user_input != n:\n",
    "        user_input = int(input(\"Guess a Number: \"))\n",
    "        if user_input > n:\n",
    "            print('too high')\n",
    "            continue\n",
    "        if user_input < n:\n",
    "            print('too low')\n",
    "            continue\n",
    "    else:\n",
    "        print('WIN')\n",
    "guess_number(23)"
   ]
  },
  {
   "cell_type": "code",
   "execution_count": 40,
   "metadata": {},
   "outputs": [
    {
     "data": {
      "text/plain": [
       "'bfim'"
      ]
     },
     "execution_count": 40,
     "metadata": {},
     "output_type": "execute_result"
    }
   ],
   "source": [
    "#CTFD10\n",
    "def leetstring(s):\n",
    "    up = s[1::2].upper()\n",
    "    low = up[0::2].lower()\n",
    "    return low\n",
    "leetstring('abcdefg HIJKLMNO')\n",
    "\n",
    "def foo(s):\n",
    "    ret = \"\"\n",
    "    i = True  # capitalize\n",
    "    for char in s:\n",
    "        if i:\n",
    "            ret += char.upper()\n",
    "        else:\n",
    "            ret += char.lower()\n",
    "        if char != ' ':\n",
    "            i = not i\n",
    "    return ret\n",
    "foo('abcdefHIJKL')"
   ]
  },
  {
   "cell_type": "code",
   "execution_count": 36,
   "metadata": {},
   "outputs": [
    {
     "name": "stdout",
     "output_type": "stream",
     "text": [
      "0\n",
      "2\n",
      "4\n",
      "6\n",
      "8\n",
      "1\n",
      "3\n",
      "5\n",
      "7\n",
      "9\n"
     ]
    }
   ],
   "source": [
    "#CTFD 11                    ******************\n",
    "def evensandodds(first,last):\n",
    "    lste = []\n",
    "    lsto = []\n",
    "    for number in range(first,last):\n",
    "        if number % 2 == 0:\n",
    "            lste.append(number)\n",
    "        else: \n",
    "            lsto.append(number)\n",
    "    for even in lste:\n",
    "        print(even)\n",
    "    for odd in lsto:\n",
    "        print(odd)\n",
    "evensandodds(0,10)\n"
   ]
  },
  {
   "cell_type": "code",
   "execution_count": 33,
   "metadata": {},
   "outputs": [
    {
     "data": {
      "text/plain": [
       "['cats', 'dogs', 'frogs']"
      ]
     },
     "execution_count": 33,
     "metadata": {},
     "output_type": "execute_result"
    }
   ],
   "source": [
    "#CTFD12\n",
    "def user_io():\n",
    "    user_input = input()\n",
    "    lst = []\n",
    "    while user_input != '':\n",
    "        lst.append(user_input)\n",
    "        user_input=input('')\n",
    "    return lst\n",
    "user_io()\n"
   ]
  },
  {
   "cell_type": "code",
   "execution_count": 29,
   "metadata": {},
   "outputs": [
    {
     "data": {
      "text/plain": [
       "(10, 20, 30, 40, 50, 60, 70, 80, 90, 100)"
      ]
     },
     "execution_count": 29,
     "metadata": {},
     "output_type": "execute_result"
    }
   ],
   "source": [
    "#CTFD13\n",
    "def make_tuple():\n",
    "    lst = []\n",
    "    for number in range(1,101):\n",
    "        if number % 10 == 0:\n",
    "            lst.append(number)\n",
    "    tuple1 = tuple(lst)\n",
    "    return tuple1\n",
    "make_tuple()"
   ]
  },
  {
   "cell_type": "code",
   "execution_count": 28,
   "metadata": {},
   "outputs": [
    {
     "data": {
      "text/plain": [
       "(0, 10, 20, 30, 40, 50, 60, 70, 80, 90)"
      ]
     },
     "execution_count": 28,
     "metadata": {},
     "output_type": "execute_result"
    }
   ],
   "source": [
    "#CTFD13-1                               ************************\n",
    "def make_tuple(a,b):\n",
    "    lst = []\n",
    "    for number in range(a,b):\n",
    "        if number % 10 == 0:\n",
    "            lst.append(number)\n",
    "    tuple1 = tuple(lst)\n",
    "    return tuple1\n",
    "make_tuple(0,100)\n"
   ]
  },
  {
   "cell_type": "code",
   "execution_count": 20,
   "metadata": {},
   "outputs": [
    {
     "name": "stdout",
     "output_type": "stream",
     "text": [
      "<class 'tuple'>\n"
     ]
    },
    {
     "data": {
      "text/plain": [
       "('', \"Physics is the universe's operating system\")"
      ]
     },
     "execution_count": 20,
     "metadata": {},
     "output_type": "execute_result"
    }
   ],
   "source": [
    "#CTFD14                               ********************************\n",
    "def string():\n",
    "    string1 = ''\n",
    "    string2 = 'Physics is the universe\\'s operating system'\n",
    "    lst = [string1,string2]\n",
    "    tpl = tuple(lst)\n",
    "    return tpl\n",
    "string()"
   ]
  },
  {
   "cell_type": "code",
   "execution_count": 18,
   "metadata": {},
   "outputs": [
    {
     "data": {
      "text/plain": [
       "(['Cats', 'Dogs'], ['Frogs', 'snakes'])"
      ]
     },
     "execution_count": 18,
     "metadata": {},
     "output_type": "execute_result"
    }
   ],
   "source": [
    "#CTFD15\n",
    "def disect(lst):\n",
    "    divider = int(len(lst) / 2)\n",
    "    l1 = lst[:divider]\n",
    "    l2 = lst[divider:]\n",
    "    return tuple([l1,l2])\n",
    "disect(['Cats','Dogs','Frogs', 'snakes'])\n",
    "\n"
   ]
  },
  {
   "cell_type": "code",
   "execution_count": 13,
   "metadata": {},
   "outputs": [
    {
     "data": {
      "text/plain": [
       "'llamehtnrub'"
      ]
     },
     "execution_count": 13,
     "metadata": {},
     "output_type": "execute_result"
    }
   ],
   "source": [
    "#CTFD16\n",
    "def reverse_string(strng):\n",
    "    resstring = strng[::-1]\n",
    "    return resstring\n",
    "reverse_string('burnthemall')"
   ]
  },
  {
   "cell_type": "code",
   "execution_count": 10,
   "metadata": {},
   "outputs": [
    {
     "data": {
      "text/plain": [
       "[99, 97, 116, 115]"
      ]
     },
     "execution_count": 10,
     "metadata": {},
     "output_type": "execute_result"
    }
   ],
   "source": [
    "#CTFD17\n",
    "def code_points(strng):\n",
    "    lst = []\n",
    "    for word in strng:\n",
    "        ordinal = ord(word)\n",
    "        lst.append(ordinal)\n",
    "    return lst\n",
    "code_points('cats')\n"
   ]
  }
 ],
 "metadata": {
  "kernelspec": {
   "display_name": "Python 3",
   "language": "python",
   "name": "python3"
  },
  "language_info": {
   "codemirror_mode": {
    "name": "ipython",
    "version": 3
   },
   "file_extension": ".py",
   "mimetype": "text/x-python",
   "name": "python",
   "nbconvert_exporter": "python",
   "pygments_lexer": "ipython3",
   "version": "3.8.10"
  },
  "orig_nbformat": 4,
  "vscode": {
   "interpreter": {
    "hash": "916dbcbb3f70747c44a77c7bcd40155683ae19c65e1c03b4aa3499c5328201f1"
   }
  }
 },
 "nbformat": 4,
 "nbformat_minor": 2
}
