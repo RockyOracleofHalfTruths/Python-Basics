{
 "cells": [
  {
   "cell_type": "code",
   "execution_count": null,
   "metadata": {},
   "outputs": [],
   "source": [
    "#9Ge%z7Vn]~@<!bL+X-BlH"
   ]
  },
  {
   "cell_type": "code",
   "execution_count": 1,
   "metadata": {},
   "outputs": [
    {
     "name": "stdout",
     "output_type": "stream",
     "text": [
      "correct that is the number\n"
     ]
    }
   ],
   "source": [
    "number = 10\n",
    "\n",
    "if number == 10:\n",
    "    print('correct that is the number')"
   ]
  },
  {
   "cell_type": "code",
   "execution_count": 2,
   "metadata": {},
   "outputs": [
    {
     "name": "stdout",
     "output_type": "stream",
     "text": [
      "Wrong, that is not a number\n"
     ]
    }
   ],
   "source": [
    "user =input('Enter a number here: ')\n",
    "\n",
    "if user.isdigit():\n",
    "    print('Yes, that is a number')\n",
    "else: \n",
    "    print('Wrong, that is not a number')"
   ]
  },
  {
   "cell_type": "code",
   "execution_count": 3,
   "metadata": {},
   "outputs": [
    {
     "name": "stdout",
     "output_type": "stream",
     "text": [
      "fizz\n",
      "buzz\n"
     ]
    }
   ],
   "source": [
    "user = int(input('Enter a number: '))\n",
    "\n",
    "if not user % 3:\n",
    "    print('fizz')\n",
    "if not user % 5:\n",
    "    print('buzz')\n",
    "if user % 3 and user % 5:\n",
    "    print('user')"
   ]
  },
  {
   "cell_type": "code",
   "execution_count": 8,
   "metadata": {},
   "outputs": [
    {
     "name": "stdout",
     "output_type": "stream",
     "text": [
      "<class 'int'>\n"
     ]
    }
   ],
   "source": [
    "a = 10 % 3\n",
    "print(type(a))"
   ]
  },
  {
   "cell_type": "code",
   "execution_count": 11,
   "metadata": {},
   "outputs": [
    {
     "name": "stdout",
     "output_type": "stream",
     "text": [
      "cat\n",
      "dog\n"
     ]
    }
   ],
   "source": [
    "def printing(a,b):\n",
    "    print(a)\n",
    "    print(b)\n",
    "\n",
    "printing('cat', 'dog')\n"
   ]
  },
  {
   "cell_type": "code",
   "execution_count": 13,
   "metadata": {},
   "outputs": [
    {
     "ename": "SyntaxError",
     "evalue": "invalid syntax (1955140959.py, line 4)",
     "output_type": "error",
     "traceback": [
      "\u001b[0;36m  Cell \u001b[0;32mIn[13], line 4\u001b[0;36m\u001b[0m\n\u001b[0;31m    def showing scope():\u001b[0m\n\u001b[0m                ^\u001b[0m\n\u001b[0;31mSyntaxError\u001b[0m\u001b[0;31m:\u001b[0m invalid syntax\n"
     ]
    }
   ],
   "source": [
    "variable = 'this is global'\n",
    "print(variable)\n",
    "\n",
    "def showing_scope():\n",
    "\n",
    "    variable = 'This is local to a function'\n",
    "    print(variable)\n",
    "\n",
    "showing_scope()\n",
    "\n",
    "# print(variable)"
   ]
  },
  {
   "cell_type": "code",
   "execution_count": 18,
   "metadata": {},
   "outputs": [
    {
     "name": "stdout",
     "output_type": "stream",
     "text": [
      "Zero\n"
     ]
    }
   ],
   "source": [
    "user =int(input('Enter a number here: '))\n",
    "\n",
    "if (not user % 2) and (user < 0):\n",
    "    print('Negative Even')\n",
    "elif (user % 2 ) and (user < 0):\n",
    "    print('Negative Odd')\n",
    "elif user == 0:\n",
    "    print('Zero')\n",
    "elif ( not user % 2) and (user > 0):\n",
    "    print('Positive Even')\n",
    "elif (user % 2) and (user > 0):\n",
    "    print('Positive Odd')\n"
   ]
  },
  {
   "cell_type": "code",
   "execution_count": 31,
   "metadata": {},
   "outputs": [
    {
     "name": "stdout",
     "output_type": "stream",
     "text": [
      "7\n"
     ]
    }
   ],
   "source": [
    "user = int(input('Enter a number: '))\n",
    "\n",
    "if not user % 3 and not user % 5:\n",
    "    print('fizzbuzz')\n",
    "elif not user % 3:\n",
    "    print('fizz')\n",
    "elif not user % 5:\n",
    "    print('buzz')\n",
    "else:\n",
    "    print(user)\n",
    "\n"
   ]
  },
  {
   "cell_type": "code",
   "execution_count": 30,
   "metadata": {},
   "outputs": [
    {
     "data": {
      "text/plain": [
       "14"
      ]
     },
     "execution_count": 30,
     "metadata": {},
     "output_type": "execute_result"
    }
   ],
   "source": [
    "def domath(a,b,c):\n",
    "    return (a+b)*c\n",
    "\n",
    "domath(3,4,2)"
   ]
  },
  {
   "cell_type": "code",
   "execution_count": 1,
   "metadata": {},
   "outputs": [
    {
     "name": "stdout",
     "output_type": "stream",
     "text": [
      "1\n",
      "2\n",
      "3\n",
      "4\n",
      "5\n",
      "6\n",
      "7\n",
      "8\n",
      "9\n",
      "10\n"
     ]
    }
   ],
   "source": [
    "counter = 0\n",
    "\n",
    "while counter < 10:\n",
    "    counter = counter + 1\n",
    "    print(counter)\n"
   ]
  },
  {
   "cell_type": "code",
   "execution_count": 6,
   "metadata": {},
   "outputs": [
    {
     "name": "stdout",
     "output_type": "stream",
     "text": [
      "['Kat', 'john', 'sam']\n",
      "Kat\n",
      "john\n",
      "sam\n"
     ]
    }
   ],
   "source": [
    "lst = []\n",
    "\n",
    "while True: \n",
    "    name = input('Enter a name: ')\n",
    "    if name == 'stop':\n",
    "        break\n",
    "    lst.append(name)\n",
    "print(lst)\n",
    "\n",
    "for name in lst:\n",
    "    print(name)\n"
   ]
  },
  {
   "cell_type": "code",
   "execution_count": 5,
   "metadata": {},
   "outputs": [
    {
     "name": "stdout",
     "output_type": "stream",
     "text": [
      "w\n",
      "o\n",
      "r\n",
      "d\n"
     ]
    }
   ],
   "source": [
    "for char in 'word':\n",
    "    print(char)\n"
   ]
  },
  {
   "cell_type": "code",
   "execution_count": 11,
   "metadata": {},
   "outputs": [
    {
     "name": "stdout",
     "output_type": "stream",
     "text": [
      "111\n",
      "aaaaaa\n",
      "222\n",
      "bbbbbb\n",
      "333\n",
      "dddddd\n",
      "eeeeee\n"
     ]
    }
   ],
   "source": [
    "word_list = ['aaa', 'bbb', 'ccc', 'ddd', 'eee']\n",
    "\n",
    "for word in word_list:\n",
    "    if word == 'aaa':\n",
    "        print('111')\n",
    "        #continue\n",
    "    if word == 'bbb':\n",
    "        print('222')\n",
    "    if word == 'ccc':\n",
    "        print('333')\n",
    "    else: \n",
    "        print(word+word)\n",
    "\n",
    "    \n",
    "\n",
    "    "
   ]
  },
  {
   "cell_type": "code",
   "execution_count": 16,
   "metadata": {},
   "outputs": [
    {
     "name": "stdout",
     "output_type": "stream",
     "text": [
      "['a', 'b', 'c']\n"
     ]
    }
   ],
   "source": [
    "primes = ['a','b','c']\n",
    "print(primes[::1])"
   ]
  },
  {
   "cell_type": "code",
   "execution_count": 4,
   "metadata": {},
   "outputs": [
    {
     "name": "stdout",
     "output_type": "stream",
     "text": [
      "WIN\n"
     ]
    }
   ],
   "source": [
    "def guess_number(n):\n",
    "    user_input = 0\n",
    "    while user_input != n:\n",
    "        user_input = int(input(\"Guess a Number: \"))\n",
    "        if user_input > n:\n",
    "            print('too high')\n",
    "            continue\n",
    "        if user_input < n:\n",
    "            print('too low')\n",
    "            continue\n",
    "    else:\n",
    "        print('WIN')\n",
    "guess_number(23)"
   ]
  },
  {
   "cell_type": "code",
   "execution_count": 40,
   "metadata": {},
   "outputs": [
    {
     "data": {
      "text/plain": [
       "'bfim'"
      ]
     },
     "execution_count": 40,
     "metadata": {},
     "output_type": "execute_result"
    }
   ],
   "source": [
    "#CTFD10\n",
    "def leetstring(s):\n",
    "    up = s[1::2].upper()\n",
    "    low = up[0::2].lower()\n",
    "    return low\n",
    "leetstring('abcdefg HIJKLMNO')\n",
    "\n",
    "def foo(s):\n",
    "    ret = \"\"\n",
    "    i = True  # capitalize\n",
    "    for char in s:\n",
    "        if i:\n",
    "            ret += char.upper()\n",
    "        else:\n",
    "            ret += char.lower()\n",
    "        if char != ' ':\n",
    "            i = not i\n",
    "    return ret\n",
    "foo('abcdefHIJKL')"
   ]
  },
  {
   "cell_type": "code",
   "execution_count": 36,
   "metadata": {},
   "outputs": [
    {
     "name": "stdout",
     "output_type": "stream",
     "text": [
      "0\n",
      "2\n",
      "4\n",
      "6\n",
      "8\n",
      "1\n",
      "3\n",
      "5\n",
      "7\n",
      "9\n"
     ]
    }
   ],
   "source": [
    "#CTFD 11                    ******************\n",
    "def evensandodds(first,last):\n",
    "    lste = []\n",
    "    lsto = []\n",
    "    for number in range(first,last):\n",
    "        if number % 2 == 0:\n",
    "            lste.append(number)\n",
    "        else: \n",
    "            lsto.append(number)\n",
    "    for even in lste:\n",
    "        print(even)\n",
    "    for odd in lsto:\n",
    "        print(odd)\n",
    "evensandodds(0,10)\n"
   ]
  },
  {
   "cell_type": "code",
   "execution_count": 33,
   "metadata": {},
   "outputs": [
    {
     "data": {
      "text/plain": [
       "['cats', 'dogs', 'frogs']"
      ]
     },
     "execution_count": 33,
     "metadata": {},
     "output_type": "execute_result"
    }
   ],
   "source": [
    "#CTFD12\n",
    "def user_io():\n",
    "    user_input = input()\n",
    "    lst = []\n",
    "    while user_input != '':\n",
    "        lst.append(user_input)\n",
    "        user_input=input('')\n",
    "    return lst\n",
    "user_io()\n"
   ]
  },
  {
   "cell_type": "code",
   "execution_count": 29,
   "metadata": {},
   "outputs": [
    {
     "data": {
      "text/plain": [
       "(10, 20, 30, 40, 50, 60, 70, 80, 90, 100)"
      ]
     },
     "execution_count": 29,
     "metadata": {},
     "output_type": "execute_result"
    }
   ],
   "source": [
    "#CTFD13\n",
    "def make_tuple():\n",
    "    lst = []\n",
    "    for number in range(1,101):\n",
    "        if number % 10 == 0:\n",
    "            lst.append(number)\n",
    "    tuple1 = tuple(lst)\n",
    "    return tuple1\n",
    "make_tuple()"
   ]
  },
  {
   "cell_type": "code",
   "execution_count": 28,
   "metadata": {},
   "outputs": [
    {
     "data": {
      "text/plain": [
       "(0, 10, 20, 30, 40, 50, 60, 70, 80, 90)"
      ]
     },
     "execution_count": 28,
     "metadata": {},
     "output_type": "execute_result"
    }
   ],
   "source": [
    "#CTFD13-1                               ************************\n",
    "def make_tuple(a,b):\n",
    "    lst = []\n",
    "    for number in range(a,b):\n",
    "        if number % 10 == 0:\n",
    "            lst.append(number)\n",
    "    tuple1 = tuple(lst)\n",
    "    return tuple1\n",
    "make_tuple(0,100)\n"
   ]
  },
  {
   "cell_type": "code",
   "execution_count": 20,
   "metadata": {},
   "outputs": [
    {
     "name": "stdout",
     "output_type": "stream",
     "text": [
      "<class 'tuple'>\n"
     ]
    },
    {
     "data": {
      "text/plain": [
       "('', \"Physics is the universe's operating system\")"
      ]
     },
     "execution_count": 20,
     "metadata": {},
     "output_type": "execute_result"
    }
   ],
   "source": [
    "#CTFD14                               ********************************\n",
    "def string():\n",
    "    string1 = ''\n",
    "    string2 = 'Physics is the universe\\'s operating system'\n",
    "    lst = [string1,string2]\n",
    "    tpl = tuple(lst)\n",
    "    return tpl\n",
    "string()"
   ]
  },
  {
   "cell_type": "code",
   "execution_count": 18,
   "metadata": {},
   "outputs": [
    {
     "data": {
      "text/plain": [
       "(['Cats', 'Dogs'], ['Frogs', 'snakes'])"
      ]
     },
     "execution_count": 18,
     "metadata": {},
     "output_type": "execute_result"
    }
   ],
   "source": [
    "#CTFD15\n",
    "def disect(lst):\n",
    "    divider = int(len(lst) / 2)\n",
    "    l1 = lst[:divider]\n",
    "    l2 = lst[divider:]\n",
    "    return tuple([l1,l2])\n",
    "disect(['Cats','Dogs','Frogs', 'snakes'])\n",
    "\n"
   ]
  },
  {
   "cell_type": "code",
   "execution_count": 13,
   "metadata": {},
   "outputs": [
    {
     "data": {
      "text/plain": [
       "'llamehtnrub'"
      ]
     },
     "execution_count": 13,
     "metadata": {},
     "output_type": "execute_result"
    }
   ],
   "source": [
    "#CTFD16\n",
    "def reverse_string(strng):\n",
    "    resstring = strng[::-1]\n",
    "    return resstring\n",
    "reverse_string('burnthemall')"
   ]
  },
  {
   "cell_type": "code",
   "execution_count": 10,
   "metadata": {},
   "outputs": [
    {
     "data": {
      "text/plain": [
       "[99, 97, 116, 115]"
      ]
     },
     "execution_count": 10,
     "metadata": {},
     "output_type": "execute_result"
    }
   ],
   "source": [
    "#CTFD17\n",
    "def code_points(strng):\n",
    "    lst = []\n",
    "    for word in strng:\n",
    "        ordinal = ord(word)\n",
    "        lst.append(ordinal)\n",
    "    return lst\n",
    "code_points('cats')\n"
   ]
  },
  {
   "cell_type": "code",
   "execution_count": 63,
   "metadata": {},
   "outputs": [
    {
     "data": {
      "text/plain": [
       "[105,\n",
       " 116,\n",
       " 32,\n",
       " 108,\n",
       " 105,\n",
       " 116,\n",
       " 116,\n",
       " 108,\n",
       " 101,\n",
       " 32,\n",
       " 112,\n",
       " 114,\n",
       " 111,\n",
       " 102,\n",
       " 105,\n",
       " 116,\n",
       " 115]"
      ]
     },
     "execution_count": 63,
     "metadata": {},
     "output_type": "execute_result"
    }
   ],
   "source": [
    "a = 'It little profits'\n",
    "[ord(c) for c in a]\n",
    "\n",
    "a1 = a.lower()\n",
    "[ord(c) for c in a1]\n"
   ]
  },
  {
   "cell_type": "code",
   "execution_count": 69,
   "metadata": {},
   "outputs": [
    {
     "name": "stdout",
     "output_type": "stream",
     "text": [
      "[[105, 116, 32, 108, 105, 116, 116, 108, 101, 32, 112, 114, 111, 102, 105, 116, 115, 32, 116, 104, 97, 116, 32, 97, 110, 32, 105, 100, 108, 101, 32, 107, 105, 110, 103, 44], [98, 121, 32, 116, 104, 105, 115, 32, 115, 116, 105, 108, 108, 32, 104, 101, 97, 114, 116, 104, 44, 32, 97, 109, 111, 110, 103, 32, 116, 104, 101, 115, 101, 32, 98, 97, 114, 114, 101, 110, 32, 99, 114, 97, 103, 115, 44], [109, 97, 116, 99, 104, 39, 100, 32, 119, 105, 116, 104, 32, 97, 110, 32, 97, 103, 101, 100, 32, 119, 105, 102, 101, 44, 32, 105, 32, 109, 101, 116, 101, 32, 97, 110, 100, 32, 100, 111, 108, 101], [117, 110, 101, 113, 117, 97, 108, 32, 108, 97, 119, 115, 32, 117, 110, 116, 111, 32, 97, 32, 115, 97, 118, 97, 103, 101, 32, 114, 97, 99, 101, 44], [116, 104, 97, 116, 32, 104, 111, 97, 114, 100, 44, 32, 97, 110, 100, 32, 115, 108, 101, 101, 112, 44, 32, 97, 110, 100, 32, 102, 101, 101, 100, 44, 32, 97, 110, 100, 32, 107, 110, 111, 119, 32, 110, 111, 116, 32, 109, 101, 46], [105, 32, 99, 97, 110, 110, 111, 116, 32, 114, 101, 115, 116, 32, 102, 114, 111, 109, 32, 116, 114, 97, 118, 101, 108, 58, 32, 105, 32, 119, 105, 108, 108, 32, 100, 114, 105, 110, 107], [108, 105, 102, 101, 32, 116, 111, 32, 116, 104, 101, 32, 108, 101, 101, 115, 58, 32, 97, 108, 108, 32, 116, 105, 109, 101, 115, 32, 105, 32, 104, 97, 118, 101, 32, 101, 110, 106, 111, 121, 39, 100], [103, 114, 101, 97, 116, 108, 121, 44, 32, 104, 97, 118, 101, 32, 115, 117, 102, 102, 101, 114, 39, 100, 32, 103, 114, 101, 97, 116, 108, 121, 44, 32, 98, 111, 116, 104, 32, 119, 105, 116, 104, 32, 116, 104, 111, 115, 101], [116, 104, 97, 116, 32, 108, 111, 118, 101, 100, 32, 109, 101, 44, 32, 97, 110, 100, 32, 97, 108, 111, 110, 101, 44, 32, 111, 110, 32, 115, 104, 111, 114, 101, 44, 32, 97, 110, 100, 32, 119, 104, 101, 110], [116, 104, 114, 111, 39, 32, 115, 99, 117, 100, 100, 105, 110, 103, 32, 100, 114, 105, 102, 116, 115, 32, 116, 104, 101, 32, 114, 97, 105, 110, 121, 32, 104, 121, 97, 100, 101, 115], [118, 101, 120, 116, 32, 116, 104, 101, 32, 100, 105, 109, 32, 115, 101, 97, 58, 32, 105, 32, 97, 109, 32, 98, 101, 99, 111, 109, 101, 32, 97, 32, 110, 97, 109, 101, 59], [102, 111, 114, 32, 97, 108, 119, 97, 121, 115, 32, 114, 111, 97, 109, 105, 110, 103, 32, 119, 105, 116, 104, 32, 97, 32, 104, 117, 110, 103, 114, 121, 32, 104, 101, 97, 114, 116], [109, 117, 99, 104, 32, 104, 97, 118, 101, 32, 105, 32, 115, 101, 101, 110, 32, 97, 110, 100, 32, 107, 110, 111, 119, 110, 59, 32, 99, 105, 116, 105, 101, 115, 32, 111, 102, 32, 109, 101, 110], [97, 110, 100, 32, 109, 97, 110, 110, 101, 114, 115, 44, 32, 99, 108, 105, 109, 97, 116, 101, 115, 44, 32, 99, 111, 117, 110, 99, 105, 108, 115, 44, 32, 103, 111, 118, 101, 114, 110, 109, 101, 110, 116, 115, 44], [109, 121, 115, 101, 108, 102, 32, 110, 111, 116, 32, 108, 101, 97, 115, 116, 44, 32, 98, 117, 116, 32, 104, 111, 110, 111, 117, 114, 39, 100, 32, 111, 102, 32, 116, 104, 101, 109, 32, 97, 108, 108, 59], [97, 110, 100, 32, 100, 114, 117, 110, 107, 32, 100, 101, 108, 105, 103, 104, 116, 32, 111, 102, 32, 98, 97, 116, 116, 108, 101, 32, 119, 105, 116, 104, 32, 109, 121, 32, 112, 101, 101, 114, 115, 44], [102, 97, 114, 32, 111, 110, 32, 116, 104, 101, 32, 114, 105, 110, 103, 105, 110, 103, 32, 112, 108, 97, 105, 110, 115, 32, 111, 102, 32, 119, 105, 110, 100, 121, 32, 116, 114, 111, 121, 46], [105, 32, 97, 109, 32, 97, 32, 112, 97, 114, 116, 32, 111, 102, 32, 97, 108, 108, 32, 116, 104, 97, 116, 32, 105, 32, 104, 97, 118, 101, 32, 109, 101, 116, 59], [121, 101, 116, 32, 97, 108, 108, 32, 101, 120, 112, 101, 114, 105, 101, 110, 99, 101, 32, 105, 115, 32, 97, 110, 32, 97, 114, 99, 104, 32, 119, 104, 101, 114, 101, 116, 104, 114, 111, 39], [103, 108, 101, 97, 109, 115, 32, 116, 104, 97, 116, 32, 117, 110, 116, 114, 97, 118, 101, 108, 108, 39, 100, 32, 119, 111, 114, 108, 100, 32, 119, 104, 111, 115, 101, 32, 109, 97, 114, 103, 105, 110, 32, 102, 97, 100, 101, 115], [102, 111, 114, 32, 101, 118, 101, 114, 32, 97, 110, 100, 32, 102, 111, 114, 101, 118, 101, 114, 32, 119, 104, 101, 110, 32, 105, 32, 109, 111, 118, 101, 46], [104, 111, 119, 32, 100, 117, 108, 108, 32, 105, 116, 32, 105, 115, 32, 116, 111, 32, 112, 97, 117, 115, 101, 44, 32, 116, 111, 32, 109, 97, 107, 101, 32, 97, 110, 32, 101, 110, 100, 44], [116, 111, 32, 114, 117, 115, 116, 32, 117, 110, 98, 117, 114, 110, 105, 115, 104, 39, 100, 44, 32, 110, 111, 116, 32, 116, 111, 32, 115, 104, 105, 110, 101, 32, 105, 110, 32, 117, 115, 101, 33], [97, 115, 32, 116, 104, 111, 39, 32, 116, 111, 32, 98, 114, 101, 97, 116, 104, 101, 32, 119, 101, 114, 101, 32, 108, 105, 102, 101, 33, 32, 108, 105, 102, 101, 32, 112, 105, 108, 101, 100, 32, 111, 110, 32, 108, 105, 102, 101], [119, 101, 114, 101, 32, 97, 108, 108, 32, 116, 111, 111, 32, 108, 105, 116, 116, 108, 101, 44, 32, 97, 110, 100, 32, 111, 102, 32, 111, 110, 101, 32, 116, 111, 32, 109, 101], [108, 105, 116, 116, 108, 101, 32, 114, 101, 109, 97, 105, 110, 115, 58, 32, 98, 117, 116, 32, 101, 118, 101, 114, 121, 32, 104, 111, 117, 114, 32, 105, 115, 32, 115, 97, 118, 101, 100], [102, 114, 111, 109, 32, 116, 104, 97, 116, 32, 101, 116, 101, 114, 110, 97, 108, 32, 115, 105, 108, 101, 110, 99, 101, 44, 32, 115, 111, 109, 101, 116, 104, 105, 110, 103, 32, 109, 111, 114, 101, 44], [97, 32, 98, 114, 105, 110, 103, 101, 114, 32, 111, 102, 32, 110, 101, 119, 32, 116, 104, 105, 110, 103, 115, 59, 32, 97, 110, 100, 32, 118, 105, 108, 101, 32, 105, 116, 32, 119, 101, 114, 101], [102, 111, 114, 32, 115, 111, 109, 101, 32, 116, 104, 114, 101, 101, 32, 115, 117, 110, 115, 32, 116, 111, 32, 115, 116, 111, 114, 101, 32, 97, 110, 100, 32, 104, 111, 97, 114, 100, 32, 109, 121, 115, 101, 108, 102, 44], [97, 110, 100, 32, 116, 104, 105, 115, 32, 103, 114, 97, 121, 32, 115, 112, 105, 114, 105, 116, 32, 121, 101, 97, 114, 110, 105, 110, 103, 32, 105, 110, 32, 100, 101, 115, 105, 114, 101], [116, 111, 32, 102, 111, 108, 108, 111, 119, 32, 107, 110, 111, 119, 108, 101, 100, 103, 101, 32, 108, 105, 107, 101, 32, 97, 32, 115, 105, 110, 107, 105, 110, 103, 32, 115, 116, 97, 114, 44], [98, 101, 121, 111, 110, 100, 32, 116, 104, 101, 32, 117, 116, 109, 111, 115, 116, 32, 98, 111, 117, 110, 100, 32, 111, 102, 32, 104, 117, 109, 97, 110, 32, 116, 104, 111, 117, 103, 104, 116, 46], [], [116, 104, 105, 115, 32, 105, 115, 32, 109, 121, 32, 115, 111, 110, 44, 32, 109, 105, 110, 101, 32, 111, 119, 110, 32, 116, 101, 108, 101, 109, 97, 99, 104, 117, 115, 44], [116, 111, 32, 119, 104, 111, 109, 32, 105, 32, 108, 101, 97, 118, 101, 32, 116, 104, 101, 32, 115, 99, 101, 112, 116, 114, 101, 32, 97, 110, 100, 32, 116, 104, 101, 32, 105, 115, 108, 101, 44, 8212], [119, 101, 108, 108, 45, 108, 111, 118, 101, 100, 32, 111, 102, 32, 109, 101, 44, 32, 100, 105, 115, 99, 101, 114, 110, 105, 110, 103, 32, 116, 111, 32, 102, 117, 108, 102, 105, 108], [116, 104, 105, 115, 32, 108, 97, 98, 111, 117, 114, 44, 32, 98, 121, 32, 115, 108, 111, 119, 32, 112, 114, 117, 100, 101, 110, 99, 101, 32, 116, 111, 32, 109, 97, 107, 101, 32, 109, 105, 108, 100], [97, 32, 114, 117, 103, 103, 101, 100, 32, 112, 101, 111, 112, 108, 101, 44, 32, 97, 110, 100, 32, 116, 104, 114, 111, 39, 32, 115, 111, 102, 116, 32, 100, 101, 103, 114, 101, 101, 115], [115, 117, 98, 100, 117, 101, 32, 116, 104, 101, 109, 32, 116, 111, 32, 116, 104, 101, 32, 117, 115, 101, 102, 117, 108, 32, 97, 110, 100, 32, 116, 104, 101, 32, 103, 111, 111, 100, 46], [109, 111, 115, 116, 32, 98, 108, 97, 109, 101, 108, 101, 115, 115, 32, 105, 115, 32, 104, 101, 44, 32, 99, 101, 110, 116, 114, 101, 100, 32, 105, 110, 32, 116, 104, 101, 32, 115, 112, 104, 101, 114, 101], [111, 102, 32, 99, 111, 109, 109, 111, 110, 32, 100, 117, 116, 105, 101, 115, 44, 32, 100, 101, 99, 101, 110, 116, 32, 110, 111, 116, 32, 116, 111, 32, 102, 97, 105, 108], [105, 110, 32, 111, 102, 102, 105, 99, 101, 115, 32, 111, 102, 32, 116, 101, 110, 100, 101, 114, 110, 101, 115, 115, 44, 32, 97, 110, 100, 32, 112, 97, 121], [109, 101, 101, 116, 32, 97, 100, 111, 114, 97, 116, 105, 111, 110, 32, 116, 111, 32, 109, 121, 32, 104, 111, 117, 115, 101, 104, 111, 108, 100, 32, 103, 111, 100, 115, 44], [119, 104, 101, 110, 32, 105, 32, 97, 109, 32, 103, 111, 110, 101, 46, 32, 104, 101, 32, 119, 111, 114, 107, 115, 32, 104, 105, 115, 32, 119, 111, 114, 107, 44, 32, 105, 32, 109, 105, 110, 101, 46], [], [116, 104, 101, 114, 101, 32, 108, 105, 101, 115, 32, 116, 104, 101, 32, 112, 111, 114, 116, 59, 32, 116, 104, 101, 32, 118, 101, 115, 115, 101, 108, 32, 112, 117, 102, 102, 115, 32, 104, 101, 114, 32, 115, 97, 105, 108, 58], [116, 104, 101, 114, 101, 32, 103, 108, 111, 111, 109, 32, 116, 104, 101, 32, 100, 97, 114, 107, 44, 32, 98, 114, 111, 97, 100, 32, 115, 101, 97, 115, 46, 32, 109, 121, 32, 109, 97, 114, 105, 110, 101, 114, 115, 44], [115, 111, 117, 108, 115, 32, 116, 104, 97, 116, 32, 104, 97, 118, 101, 32, 116, 111, 105, 108, 39, 100, 44, 32, 97, 110, 100, 32, 119, 114, 111, 117, 103, 104, 116, 44, 32, 97, 110, 100, 32, 116, 104, 111, 117, 103, 104, 116, 32, 119, 105, 116, 104, 32, 109, 101, 8212], [116, 104, 97, 116, 32, 101, 118, 101, 114, 32, 119, 105, 116, 104, 32, 97, 32, 102, 114, 111, 108, 105, 99, 32, 119, 101, 108, 99, 111, 109, 101, 32, 116, 111, 111, 107], [116, 104, 101, 32, 116, 104, 117, 110, 100, 101, 114, 32, 97, 110, 100, 32, 116, 104, 101, 32, 115, 117, 110, 115, 104, 105, 110, 101, 44, 32, 97, 110, 100, 32, 111, 112, 112, 111, 115, 101, 100], [102, 114, 101, 101, 32, 104, 101, 97, 114, 116, 115, 44, 32, 102, 114, 101, 101, 32, 102, 111, 114, 101, 104, 101, 97, 100, 115, 8212, 121, 111, 117, 32, 97, 110, 100, 32, 105, 32, 97, 114, 101, 32, 111, 108, 100, 59], [111, 108, 100, 32, 97, 103, 101, 32, 104, 97, 116, 104, 32, 121, 101, 116, 32, 104, 105, 115, 32, 104, 111, 110, 111, 117, 114, 32, 97, 110, 100, 32, 104, 105, 115, 32, 116, 111, 105, 108, 59], [100, 101, 97, 116, 104, 32, 99, 108, 111, 115, 101, 115, 32, 97, 108, 108, 58, 32, 98, 117, 116, 32, 115, 111, 109, 101, 116, 104, 105, 110, 103, 32, 101, 114, 101, 32, 116, 104, 101, 32, 101, 110, 100, 44], [115, 111, 109, 101, 32, 119, 111, 114, 107, 32, 111, 102, 32, 110, 111, 98, 108, 101, 32, 110, 111, 116, 101, 44, 32, 109, 97, 121, 32, 121, 101, 116, 32, 98, 101, 32, 100, 111, 110, 101, 44], [110, 111, 116, 32, 117, 110, 98, 101, 99, 111, 109, 105, 110, 103, 32, 109, 101, 110, 32, 116, 104, 97, 116, 32, 115, 116, 114, 111, 118, 101, 32, 119, 105, 116, 104, 32, 103, 111, 100, 115, 46], [116, 104, 101, 32, 108, 105, 103, 104, 116, 115, 32, 98, 101, 103, 105, 110, 32, 116, 111, 32, 116, 119, 105, 110, 107, 108, 101, 32, 102, 114, 111, 109, 32, 116, 104, 101, 32, 114, 111, 99, 107, 115, 58], [116, 104, 101, 32, 108, 111, 110, 103, 32, 100, 97, 121, 32, 119, 97, 110, 101, 115, 58, 32, 116, 104, 101, 32, 115, 108, 111, 119, 32, 109, 111, 111, 110, 32, 99, 108, 105, 109, 98, 115, 58, 32, 116, 104, 101, 32, 100, 101, 101, 112], [109, 111, 97, 110, 115, 32, 114, 111, 117, 110, 100, 32, 119, 105, 116, 104, 32, 109, 97, 110, 121, 32, 118, 111, 105, 99, 101, 115, 46, 32, 99, 111, 109, 101, 44, 32, 109, 121, 32, 102, 114, 105, 101, 110, 100, 115, 44], [39, 116, 32, 105, 115, 32, 110, 111, 116, 32, 116, 111, 111, 32, 108, 97, 116, 101, 32, 116, 111, 32, 115, 101, 101, 107, 32, 97, 32, 110, 101, 119, 101, 114, 32, 119, 111, 114, 108, 100, 46], [112, 117, 115, 104, 32, 111, 102, 102, 44, 32, 97, 110, 100, 32, 115, 105, 116, 116, 105, 110, 103, 32, 119, 101, 108, 108, 32, 105, 110, 32, 111, 114, 100, 101, 114, 32, 115, 109, 105, 116, 101], [116, 104, 101, 32, 115, 111, 117, 110, 100, 105, 110, 103, 32, 102, 117, 114, 114, 111, 119, 115, 59, 32, 102, 111, 114, 32, 109, 121, 32, 112, 117, 114, 112, 111, 115, 101, 32, 104, 111, 108, 100, 115], [116, 111, 32, 115, 97, 105, 108, 32, 98, 101, 121, 111, 110, 100, 32, 116, 104, 101, 32, 115, 117, 110, 115, 101, 116, 44, 32, 97, 110, 100, 32, 116, 104, 101, 32, 98, 97, 116, 104, 115], [111, 102, 32, 97, 108, 108, 32, 116, 104, 101, 32, 119, 101, 115, 116, 101, 114, 110, 32, 115, 116, 97, 114, 115, 44, 32, 117, 110, 116, 105, 108, 32, 105, 32, 100, 105, 101, 46], [105, 116, 32, 109, 97, 121, 32, 98, 101, 32, 116, 104, 97, 116, 32, 116, 104, 101, 32, 103, 117, 108, 102, 115, 32, 119, 105, 108, 108, 32, 119, 97, 115, 104, 32, 117, 115, 32, 100, 111, 119, 110, 58], [105, 116, 32, 109, 97, 121, 32, 98, 101, 32, 119, 101, 32, 115, 104, 97, 108, 108, 32, 116, 111, 117, 99, 104, 32, 116, 104, 101, 32, 104, 97, 112, 112, 121, 32, 105, 115, 108, 101, 115, 44], [97, 110, 100, 32, 115, 101, 101, 32, 116, 104, 101, 32, 103, 114, 101, 97, 116, 32, 97, 99, 104, 105, 108, 108, 101, 115, 44, 32, 119, 104, 111, 109, 32, 119, 101, 32, 107, 110, 101, 119, 46], [116, 104, 111, 39, 32, 109, 117, 99, 104, 32, 105, 115, 32, 116, 97, 107, 101, 110, 44, 32, 109, 117, 99, 104, 32, 97, 98, 105, 100, 101, 115, 59, 32, 97, 110, 100, 32, 116, 104, 111, 39], [119, 101, 32, 97, 114, 101, 32, 110, 111, 116, 32, 110, 111, 119, 32, 116, 104, 97, 116, 32, 115, 116, 114, 101, 110, 103, 116, 104, 32, 119, 104, 105, 99, 104, 32, 105, 110, 32, 111, 108, 100, 32, 100, 97, 121, 115], [109, 111, 118, 101, 100, 32, 101, 97, 114, 116, 104, 32, 97, 110, 100, 32, 104, 101, 97, 118, 101, 110, 44, 32, 116, 104, 97, 116, 32, 119, 104, 105, 99, 104, 32, 119, 101, 32, 97, 114, 101, 44, 32, 119, 101, 32, 97, 114, 101, 59], [111, 110, 101, 32, 101, 113, 117, 97, 108, 32, 116, 101, 109, 112, 101, 114, 32, 111, 102, 32, 104, 101, 114, 111, 105, 99, 32, 104, 101, 97, 114, 116, 115, 44], [109, 97, 100, 101, 32, 119, 101, 97, 107, 32, 98, 121, 32, 116, 105, 109, 101, 32, 97, 110, 100, 32, 102, 97, 116, 101, 44, 32, 98, 117, 116, 32, 115, 116, 114, 111, 110, 103, 32, 105, 110, 32, 119, 105, 108, 108], [116, 111, 32, 115, 116, 114, 105, 118, 101, 44, 32, 116, 111, 32, 115, 101, 101, 107, 44, 32, 116, 111, 32, 102, 105, 110, 100, 44, 32, 97, 110, 100, 32, 110, 111, 116, 32, 116, 111, 32, 121, 105, 101, 108, 100, 46]]\n"
     ]
    }
   ],
   "source": [
    "#CTFD27       Create a dictionary of the original strings with the caseinsensitive ascii value as the key\n",
    "def sort_ascii(filepath):\n",
    "    lst = []\n",
    "    with open(filepath, 'r') as fp:\n",
    "        lines = fp.readlines()\n",
    "        for line in lines:\n",
    "            asci = [ord(c) for c in line.strip().lower()]\n",
    "            dict1 = [line : asci]\n",
    "            #print(asci)\n",
    "            lst.append(asci)\n",
    "        print(lst)\n",
    "        #return lst\n",
    "        sortedlist = sorted(lst, key=)\n",
    "        #return sortedlist\n",
    "sort_ascii('Ulysses.txt')"
   ]
  },
  {
   "cell_type": "code",
   "execution_count": 49,
   "metadata": {},
   "outputs": [
    {
     "data": {
      "text/plain": [
       "['asdfasdf', 'adfasdf', 'ddss', 'abc', 'a']"
      ]
     },
     "execution_count": 49,
     "metadata": {},
     "output_type": "execute_result"
    }
   ],
   "source": [
    "#CTFD28 ###########################################################\n",
    "\n",
    "def sort_length(filepath):\n",
    "    lst = []\n",
    "    with open(filepath, 'r') as fp:\n",
    "        lines = fp.readlines()\n",
    "        for line in lines:\n",
    "            lst.append(line.strip())\n",
    "        sortlines = sorted(lst, key=len, reverse = True)\n",
    "        return sortlines\n",
    "sort_length('simple.txt')\n",
    "        \n"
   ]
  },
  {
   "cell_type": "code",
   "execution_count": 11,
   "metadata": {},
   "outputs": [
    {
     "data": {
      "text/plain": [
       "('0b10', '0o2', '0x2')"
      ]
     },
     "execution_count": 11,
     "metadata": {},
     "output_type": "execute_result"
    }
   ],
   "source": [
    "#CTFD120p1\n",
    "\n",
    "def numsys(startint):\n",
    "    binary = bin(startint)\n",
    "    octal = oct(startint)\n",
    "    hexi = hex(startint)\n",
    "    tuplist = tuple([binary, octal, hexi])\n",
    "    return tuplist\n",
    "numsys(2)\n"
   ]
  },
  {
   "cell_type": "code",
   "execution_count": 16,
   "metadata": {},
   "outputs": [],
   "source": [
    "#CTFD120p2\n",
    "\n",
    "def getints(binnum, octnum, decnum, hexnum):\n",
    "    lst = [int(binnum, 2), int(octnum, 8), int(decnum, 10), int(hexnum, 16)]\n",
    "    return lst\n"
   ]
  },
  {
   "cell_type": "code",
   "execution_count": 20,
   "metadata": {},
   "outputs": [
    {
     "name": "stdout",
     "output_type": "stream",
     "text": [
      "[1000000, 1000000, 1000000, 1000000]\n"
     ]
    }
   ],
   "source": [
    "#CTFD120p3################################################\n",
    "\n",
    "def literals():\n",
    "    m = 1000000\n",
    "    binary = bin(m)\n",
    "    octal = oct(m)\n",
    "    hexi = hex(m)\n",
    "    deci = float(m)\n",
    "    lst = [int(binary, 2), int(octal, 8), int(hexi, 16), int(deci)]\n",
    "    print(lst)\n",
    "\n",
    "literals()"
   ]
  },
  {
   "cell_type": "code",
   "execution_count": 73,
   "metadata": {},
   "outputs": [
    {
     "data": {
      "text/plain": [
       "[3.2, 3222.4]"
      ]
     },
     "execution_count": 73,
     "metadata": {},
     "output_type": "execute_result"
    }
   ],
   "source": [
    "#CTFD PV1 01\n",
    "\n",
    "def q1(floatstr):\n",
    "    lst2 = []\n",
    "    lst = floatstr.split(',')\n",
    "    for item in lst:\n",
    "        item2 = float(item)\n",
    "        lst2.append(item2)\n",
    "    return lst2\n",
    "q1('3.2,3222.4')\n"
   ]
  },
  {
   "cell_type": "code",
   "execution_count": 85,
   "metadata": {},
   "outputs": [
    {
     "data": {
      "text/plain": [
       "2.5"
      ]
     },
     "execution_count": 85,
     "metadata": {},
     "output_type": "execute_result"
    }
   ],
   "source": [
    "#CTFD PV1 02\n",
    "\n",
    "def q1(*args):\n",
    "    lst = args\n",
    "    average = sum(args) / len(lst)\n",
    "    return average\n",
    "\n",
    "\n",
    "q1(1, 2, 3, 4)"
   ]
  },
  {
   "cell_type": "code",
   "execution_count": 98,
   "metadata": {},
   "outputs": [
    {
     "data": {
      "text/plain": [
       "['d', 'e', 'f']"
      ]
     },
     "execution_count": 98,
     "metadata": {},
     "output_type": "execute_result"
    }
   ],
   "source": [
    "#CTFD PV1 03\n",
    "\n",
    "def q1(lst, n):\n",
    "    lst1 = lst[::-1]\n",
    "    lst2 = lst1[0:n]\n",
    "    lst3 = lst2[::-1]\n",
    "    return lst3\n",
    "\n",
    "q1(['b','c','d','e','f'], 3)\n"
   ]
  },
  {
   "cell_type": "code",
   "execution_count": null,
   "metadata": {},
   "outputs": [],
   "source": [
    "#CTFD PV1 04\n",
    "\n",
    "def q1(strng):\n",
    "    lst = []\n",
    "    for char in strng:\n",
    "        ordinal = ord(char)\n",
    "        lst.append(ordinal)\n",
    "    return lst\n"
   ]
  },
  {
   "cell_type": "code",
   "execution_count": 1,
   "metadata": {},
   "outputs": [
    {
     "ename": "FileNotFoundError",
     "evalue": "[Errno 2] No such file or directory: 'Ulysses.txt'",
     "output_type": "error",
     "traceback": [
      "\u001b[1;31m---------------------------------------------------------------------------\u001b[0m",
      "\u001b[1;31mFileNotFoundError\u001b[0m                         Traceback (most recent call last)",
      "Cell \u001b[1;32mIn[1], line 8\u001b[0m\n\u001b[0;32m      5\u001b[0m         line1 \u001b[39m=\u001b[39m fn\u001b[39m.\u001b[39mreadline(\u001b[39m1\u001b[39m)\n\u001b[0;32m      6\u001b[0m         \u001b[39mreturn\u001b[39;00m line1\n\u001b[1;32m----> 8\u001b[0m q1(\u001b[39m'\u001b[39;49m\u001b[39mUlysses.txt\u001b[39;49m\u001b[39m'\u001b[39;49m)\n",
      "Cell \u001b[1;32mIn[1], line 4\u001b[0m, in \u001b[0;36mq1\u001b[1;34m(filename)\u001b[0m\n\u001b[0;32m      3\u001b[0m \u001b[39mdef\u001b[39;00m \u001b[39mq1\u001b[39m(filename):\n\u001b[1;32m----> 4\u001b[0m     \u001b[39mwith\u001b[39;00m \u001b[39mopen\u001b[39;49m(filename, \u001b[39m'\u001b[39;49m\u001b[39mr\u001b[39;49m\u001b[39m'\u001b[39;49m) \u001b[39mas\u001b[39;00m fn:\n\u001b[0;32m      5\u001b[0m         line1 \u001b[39m=\u001b[39m fn\u001b[39m.\u001b[39mreadline(\u001b[39m1\u001b[39m)\n\u001b[0;32m      6\u001b[0m         \u001b[39mreturn\u001b[39;00m line1\n",
      "File \u001b[1;32m~\\AppData\\Local\\Packages\\PythonSoftwareFoundation.Python.3.10_qbz5n2kfra8p0\\LocalCache\\local-packages\\Python310\\site-packages\\IPython\\core\\interactiveshell.py:282\u001b[0m, in \u001b[0;36m_modified_open\u001b[1;34m(file, *args, **kwargs)\u001b[0m\n\u001b[0;32m    275\u001b[0m \u001b[39mif\u001b[39;00m file \u001b[39min\u001b[39;00m {\u001b[39m0\u001b[39m, \u001b[39m1\u001b[39m, \u001b[39m2\u001b[39m}:\n\u001b[0;32m    276\u001b[0m     \u001b[39mraise\u001b[39;00m \u001b[39mValueError\u001b[39;00m(\n\u001b[0;32m    277\u001b[0m         \u001b[39mf\u001b[39m\u001b[39m\"\u001b[39m\u001b[39mIPython won\u001b[39m\u001b[39m'\u001b[39m\u001b[39mt let you open fd=\u001b[39m\u001b[39m{\u001b[39;00mfile\u001b[39m}\u001b[39;00m\u001b[39m by default \u001b[39m\u001b[39m\"\u001b[39m\n\u001b[0;32m    278\u001b[0m         \u001b[39m\"\u001b[39m\u001b[39mas it is likely to crash IPython. If you know what you are doing, \u001b[39m\u001b[39m\"\u001b[39m\n\u001b[0;32m    279\u001b[0m         \u001b[39m\"\u001b[39m\u001b[39myou can use builtins\u001b[39m\u001b[39m'\u001b[39m\u001b[39m open.\u001b[39m\u001b[39m\"\u001b[39m\n\u001b[0;32m    280\u001b[0m     )\n\u001b[1;32m--> 282\u001b[0m \u001b[39mreturn\u001b[39;00m io_open(file, \u001b[39m*\u001b[39margs, \u001b[39m*\u001b[39m\u001b[39m*\u001b[39mkwargs)\n",
      "\u001b[1;31mFileNotFoundError\u001b[0m: [Errno 2] No such file or directory: 'Ulysses.txt'"
     ]
    }
   ],
   "source": [
    "#CTFD PV1 07\n",
    "\n",
    "def q1(filename):\n",
    "    with open(filename, 'r') as fn:\n",
    "        line1 = fn.readline(1)\n",
    "        return line1\n",
    "\n",
    "q1('Ulysses.txt')"
   ]
  },
  {
   "cell_type": "code",
   "execution_count": 1,
   "metadata": {},
   "outputs": [
    {
     "data": {
      "text/plain": [
       "('The', 'world', 'is', 'the', 'world', 'is')"
      ]
     },
     "execution_count": 1,
     "metadata": {},
     "output_type": "execute_result"
    }
   ],
   "source": [
    "#CTFDPV105\n",
    "def q1(strng):\n",
    "    words = strng.split()\n",
    "    wordtup = tuple(words)\n",
    "    return wordtup\n",
    "\n",
    "q1('The world is the world is')\n",
    "\n"
   ]
  },
  {
   "cell_type": "code",
   "execution_count": 10,
   "metadata": {},
   "outputs": [
    {
     "name": "stdout",
     "output_type": "stream",
     "text": [
      "289.99\n",
      "363.5\n"
     ]
    },
    {
     "data": {
      "text/plain": [
       "2540.45"
      ]
     },
     "execution_count": 10,
     "metadata": {},
     "output_type": "execute_result"
    }
   ],
   "source": [
    "#CTFD PV1 06\n",
    "\n",
    "def q6(catalog, order):\n",
    "    totalprice = 0.0\n",
    "    for item in order:\n",
    "        price = catalog[item[0]]\n",
    "        itemsprice = float(item[1]) * price\n",
    "        totalprice += itemsprice\n",
    "    return totalprice\n",
    "    \n",
    "q6({'AMD Ryzen 5 5600X': 289.99,'Intel Core i9-9900K': 363.50,'AMD Ryzen 9 5900X': 569.99},[('AMD Ryzen 5 5600X', 5), ('Intel Core i9-9900K', 3)])\n"
   ]
  },
  {
   "cell_type": "code",
   "execution_count": 21,
   "metadata": {},
   "outputs": [
    {
     "name": "stdout",
     "output_type": "stream",
     "text": [
      " is world The\n",
      "<class 'str'>\n"
     ]
    }
   ],
   "source": [
    "#CTFD PV2 01\n",
    "\n",
    "def q1(sentence):\n",
    "    done = ''\n",
    "    words = sentence.split()\n",
    "    rev = words[::-1]\n",
    "    for word in rev:\n",
    "        done += ' '+ word\n",
    "    print(done)\n",
    "    print(type(done))\n",
    "    \n",
    "\n",
    "    #return ' ' .join(rev)\n",
    "\n",
    "q1('The world is')\n"
   ]
  },
  {
   "cell_type": "code",
   "execution_count": 25,
   "metadata": {},
   "outputs": [
    {
     "data": {
      "text/plain": [
       "'1,000,000,000,000,000,000'"
      ]
     },
     "execution_count": 25,
     "metadata": {},
     "output_type": "execute_result"
    }
   ],
   "source": [
    "#CTFD PV2 02\n",
    "\n",
    "def q1(n):\n",
    "    return f'{n:,}'\n",
    "q1(1000000000000000000)"
   ]
  },
  {
   "cell_type": "code",
   "execution_count": 28,
   "metadata": {},
   "outputs": [
    {
     "data": {
      "text/plain": [
       "[6, 5, 4, 3, 2, 1]"
      ]
     },
     "execution_count": 28,
     "metadata": {},
     "output_type": "execute_result"
    }
   ],
   "source": [
    "#CTFD PV2 03\n",
    "\n",
    "def q1(lst0, lst1):\n",
    "    lst = []\n",
    "    for item in lst0:\n",
    "        lst.append(item)\n",
    "    for item in lst1:\n",
    "        lst.append(item)\n",
    "    sortedlst = sorted(lst, reverse = True)\n",
    "    return sortedlst\n",
    "\n",
    "q1([1,2,3],[4,5,6])\n"
   ]
  },
  {
   "cell_type": "code",
   "execution_count": null,
   "metadata": {},
   "outputs": [],
   "source": [
    "#CTFD PV2 04\n",
    "\n",
    "def q1(s1,s2,s3):\n",
    "    if (s1 + s2 + s3)/3 > 50:\n",
    "        return 'GO'\n",
    "    else:\n",
    "        return 'NOGO'"
   ]
  },
  {
   "cell_type": "code",
   "execution_count": 29,
   "metadata": {},
   "outputs": [
    {
     "data": {
      "text/plain": [
       "[0, 6, 12, 18, 24, 30]"
      ]
     },
     "execution_count": 29,
     "metadata": {},
     "output_type": "execute_result"
    }
   ],
   "source": [
    "#CTFD PV2 05\n",
    "\n",
    "def q1(integer, limit):\n",
    "    lst = []\n",
    "    for num in range(limit + 1):\n",
    "        if num % integer == 0 and num % 2 == 0:\n",
    "            lst.append(num)\n",
    "    return lst\n",
    "\n",
    "q1(3, 30)"
   ]
  },
  {
   "cell_type": "code",
   "execution_count": 42,
   "metadata": {},
   "outputs": [
    {
     "data": {
      "text/plain": [
       "7"
      ]
     },
     "execution_count": 42,
     "metadata": {},
     "output_type": "execute_result"
    }
   ],
   "source": [
    "#CTFD PV2 07\n",
    "\n",
    "def q1(lst):\n",
    "    set1 = set()\n",
    "    for num in lst: \n",
    "        if num in set1:\n",
    "            return num\n",
    "        else: \n",
    "            set1.add(num)\n",
    "\n",
    "        \n",
    "q1([5,7,9,1,3,7,9,5])\n",
    "    "
   ]
  },
  {
   "cell_type": "code",
   "execution_count": null,
   "metadata": {},
   "outputs": [],
   "source": [
    "#CTFD PV2 08\n",
    "\n",
    "def q1(string):\n",
    "    lst = string.split()\n",
    "    lst = sorted(lst, key = len)\n",
    "    return len(lst[0])\n",
    "\n",
    "        "
   ]
  },
  {
   "cell_type": "code",
   "execution_count": 69,
   "metadata": {},
   "outputs": [
    {
     "data": {
      "text/plain": [
       "'a'"
      ]
     },
     "execution_count": 69,
     "metadata": {},
     "output_type": "execute_result"
    }
   ],
   "source": [
    "#CTFD PV2 09\n",
    "\n",
    "def q1(strng):\n",
    "    number = ''\n",
    "    for char in strng:\n",
    "        if char.isdigit() == True:\n",
    "             number += char\n",
    "    return chr(int(number))\n",
    "q1('hell9oworld7')\n"
   ]
  },
  {
   "cell_type": "code",
   "execution_count": 56,
   "metadata": {},
   "outputs": [
    {
     "name": "stdout",
     "output_type": "stream",
     "text": [
      "97\n"
     ]
    }
   ],
   "source": [
    "print(ord('a'))\n"
   ]
  },
  {
   "cell_type": "code",
   "execution_count": 39,
   "metadata": {},
   "outputs": [
    {
     "data": {
      "text/plain": [
       "6"
      ]
     },
     "execution_count": 39,
     "metadata": {},
     "output_type": "execute_result"
    }
   ],
   "source": [
    "#CTFD PV2 10\n",
    "\n",
    "def q1(arr):\n",
    "    for num in range(len(arr)):\n",
    "        if num != 0:\n",
    "            if int(arr[num]) - int(arr[num - 1]) != 1:\n",
    "                return arr[num]\n",
    "\n",
    "q1([1,2,3,4,6,7])"
   ]
  },
  {
   "cell_type": "code",
   "execution_count": null,
   "metadata": {},
   "outputs": [],
   "source": []
  },
  {
   "cell_type": "code",
   "execution_count": 33,
   "metadata": {},
   "outputs": [
    {
     "name": "stdout",
     "output_type": "stream",
     "text": [
      "6\n"
     ]
    }
   ],
   "source": [
    "print(len([1,2,3,4,6,7]))"
   ]
  }
 ],
 "metadata": {
  "kernelspec": {
   "display_name": "Python 3",
   "language": "python",
   "name": "python3"
  },
  "language_info": {
   "codemirror_mode": {
    "name": "ipython",
    "version": 3
   },
   "file_extension": ".py",
   "mimetype": "text/x-python",
   "name": "python",
   "nbconvert_exporter": "python",
   "pygments_lexer": "ipython3",
   "version": "3.10.10"
  },
  "orig_nbformat": 4,
  "vscode": {
   "interpreter": {
    "hash": "e901d1afdda5cf00615b03332ec10a9cec199adbbf6f817509bac76f70b4bed7"
   }
  }
 },
 "nbformat": 4,
 "nbformat_minor": 2
}
