{
 "cells": [
  {
   "cell_type": "code",
   "execution_count": null,
   "metadata": {},
   "outputs": [],
   "source": [
    "# & And both bits on\n",
    "# | or only one needs to be on\n",
    "# ^ xor only one on at a time\n",
    "\n"
   ]
  },
  {
   "cell_type": "code",
   "execution_count": 9,
   "metadata": {},
   "outputs": [
    {
     "data": {
      "text/plain": [
       "1"
      ]
     },
     "execution_count": 9,
     "metadata": {},
     "output_type": "execute_result"
    }
   ],
   "source": [
    "0b101 & 0b001 "
   ]
  },
  {
   "cell_type": "code",
   "execution_count": 32,
   "metadata": {},
   "outputs": [
    {
     "ename": "SyntaxError",
     "evalue": "invalid syntax (217432531.py, line 2)",
     "output_type": "error",
     "traceback": [
      "\u001b[0;36m  Cell \u001b[0;32mIn[32], line 2\u001b[0;36m\u001b[0m\n\u001b[0;31m    show me the code(variable)\u001b[0m\n\u001b[0m         ^\u001b[0m\n\u001b[0;31mSyntaxError\u001b[0m\u001b[0;31m:\u001b[0m invalid syntax\n"
     ]
    }
   ],
   "source": [
    "variable = 'Example'.encode('ascii')\n",
    "print(variable.decode('ascii'))"
   ]
  },
  {
   "cell_type": "code",
   "execution_count": 29,
   "metadata": {},
   "outputs": [
    {
     "name": "stdout",
     "output_type": "stream",
     "text": [
      "65\n"
     ]
    }
   ],
   "source": [
    "print(ord('A'))"
   ]
  },
  {
   "cell_type": "code",
   "execution_count": 5,
   "metadata": {},
   "outputs": [
    {
     "name": "stdout",
     "output_type": "stream",
     "text": [
      "<class 'ZeroDivisionError'>\n"
     ]
    }
   ],
   "source": [
    "#Python Class 22 Feb######################################################################\n",
    "\n",
    "a = 10\n",
    "b = 0\n",
    "try:\n",
    "    print(a/b)\n",
    "\n",
    "except PermissionError as e: \n",
    "    print(type(e))"
   ]
  },
  {
   "cell_type": "code",
   "execution_count": 9,
   "metadata": {},
   "outputs": [
    {
     "name": "stdout",
     "output_type": "stream",
     "text": [
      "[Errno 2] No such file or directory: 'ulysses.txt'\n"
     ]
    },
    {
     "ename": "NameError",
     "evalue": "name 'file' is not defined",
     "output_type": "error",
     "traceback": [
      "\u001b[0;31m---------------------------------------------------------------------------\u001b[0m",
      "\u001b[0;31mNameError\u001b[0m                                 Traceback (most recent call last)",
      "Cell \u001b[0;32mIn[9], line 7\u001b[0m\n\u001b[1;32m      4\u001b[0m \u001b[39mexcept\u001b[39;00m \u001b[39mFileNotFoundError\u001b[39;00m \u001b[39mas\u001b[39;00m e:\n\u001b[1;32m      5\u001b[0m     \u001b[39mprint\u001b[39m(e)\n\u001b[0;32m----> 7\u001b[0m file\u001b[39m.\u001b[39mread()\n",
      "\u001b[0;31mNameError\u001b[0m: name 'file' is not defined"
     ]
    }
   ],
   "source": [
    "try:\n",
    "    file = open('ulysses.txt')\n",
    "\n",
    "except FileNotFoundError as e:\n",
    "    print(e)\n",
    "\n",
    "else: #this is only giong to execute if the try block does not error\n",
    "\n",
    "finally:\n",
    "    #this is going to execute no matter what\n",
    "file.read()"
   ]
  },
  {
   "cell_type": "code",
   "execution_count": 36,
   "metadata": {},
   "outputs": [
    {
     "name": "stdout",
     "output_type": "stream",
     "text": [
      "?\n",
      "<\n",
      ">\n"
     ]
    },
    {
     "data": {
      "text/plain": [
       "31"
      ]
     },
     "execution_count": 36,
     "metadata": {},
     "output_type": "execute_result"
    }
   ],
   "source": [
    "#CTFD 100\n",
    "\n",
    "def complexity(password):\n",
    "    bincheck = 0\n",
    "    if len(password) >= 15:\n",
    "        bincheck = bincheck | 0x1\n",
    "    for char in password:\n",
    "        if char.isdigit() == True:\n",
    "            bincheck = bincheck | 0x2import itertools\n",
    "def crack(username):\n",
    "    digits = range(0,10)\n",
    "    for perm in itertools.product(digits, repeat = 4):\n",
    "        pin = str(perm[0])+str(perm[1])+str(perm[2])+str(perm[3])\n",
    "        if login(username, pin) != PermissionError: #error handling\n",
    "            return pin\n",
    "            bincheck = bincheck | 0x4\n",
    "        if char.islower() == True:\n",
    "            bincheck = bincheck | 0x8\n",
    "        if char.isalnum() == False:\n",
    "            bincheck = bincheck | 0x10\n",
    "            print(char)\n",
    "    return bincheck\n",
    "complexity('123Au6789123245?<>')"
   ]
  },
  {
   "cell_type": "code",
   "execution_count": 3,
   "metadata": {},
   "outputs": [
    {
     "data": {
      "text/plain": [
       "'r----x--x'"
      ]
     },
     "execution_count": 3,
     "metadata": {},
     "output_type": "execute_result"
    }
   ],
   "source": [
    "# CTFD 101import itertools\n",
    "def crack(username):\n",
    "    digits = range(0,10)\n",
    "    for perm in itertools.product(digits, repeat = 4):\n",
    "        pin = str(perm[0])+str(perm[1])+str(perm[2])+str(perm[3])\n",
    "        if login(username, pin) != PermissionError: #error handling\n",
    "            return pin\n",
    "            if mode & (checker >> bit) == checker >> bit:\n",
    "                strng += 'r'\n",
    "            if mode & (checker >> bit) != chimport itertools\n",
    "def crack(username):\n",
    "    digits = range(0,10)\n",
    "    for perm in itertools.product(digits, repeat = 4):\n",
    "        pin = str(perm[0])+str(perm[1])+str(perm[2])+str(perm[3])\n",
    "        if login(username, pin) != PermissionError: #error handling\n",
    "            return pin\n",
    "        if bit == 1 or bit == 4 or bit == 7:\n",
    "            if mode & (checker >> bit) == checker >> biimport itertools\n",
    "\n",
    "lock_passcode = 2564\n",
    "digits = list(range(0, 10))\n",
    "for permutation in itertools.product(digits, repeat=4):\n",
    "    pin = ''\n",
    "    for char in permutation:\n",
    "        pin += str(char)\n",
    "    print(pin)\n",
    "    #     pin = ''\n",
    "    #     pin += str(char)\n",
    "    # print(pin)\n",
    "    # pin = ''\n",
    "    # pin = pin.join(str(permutation))\n",
    "    # print(pin)\n",
    "            if mode & (checker >> bit) != checker >> bit:\n",
    "                strng += '-'\n",
    "        if bit == 2 or bit == 5 or bit == 8:\n",
    "            if mode & (checker >> bit) == checker >> bit:\n",
    "                strng += 'x'\n",
    "            if mode & (checker >> bit) != checker >> bit:\n",
    "                strng += '-'\n",
    "    return strngimport itertools\n",
    "def crack(username):\n",
    "    digits = range(0,10)\n",
    "    for perm in itertools.product(digits, repeat = 4):\n",
    "        pin = str(perm[0])+str(perm[1])+str(perm[2])+str(perm[3])\n",
    "        if login(username, pin) != PermissionError: #error handling\n",
    "            return pin"
   ]
  },
  {
   "cell_type": "code",
   "execution_count": 14,
   "metadata": {},
   "outputs": [
    {
     "data": {
      "text/plain": [
       "'0000'"
      ]
     },
     "execution_count": 14,
     "metadata": {},
     "output_type": "execute_result"
    }
   ],
   "source": [
    "#CTFD 102\n",
    "\n",
    "import itertools\n",
    "def crack(username):\n",
    "    digits = range(0,10)\n",
    "    for perm in itertools.product(digits, repeat = 4):\n",
    "        pin = str(perm[0])+str(perm[1])+str(perm[2])+str(perm[3])\n",
    "        try:\n",
    "            login(username, pin)\n",
    "        except PermissionError as pe:\n",
    "            print(pe)   \n",
    "        else:\n",
    "            return pin\n",
    "\n",
    "crack('username')"
   ]
  },
  {
   "cell_type": "code",
   "execution_count": 17,
   "metadata": {},
   "outputs": [
    {
     "name": "stdout",
     "output_type": "stream",
     "text": [
      "The duck is moving at 1MPH\n"
     ]
    }
   ],
   "source": [
    "######################################## Build a Class ###########################################\n",
    "\n",
    "class duck():\n",
    "    def __init__(self): #self will become the instance we create later\n",
    "        self.speed = 0\n",
    "    def speedup(self):\n",
    "        self.speed += 1\n",
    "    def slowdown(self):\n",
    "        if self.speed > 0:\n",
    "            self.speed -= 1\n",
    "    def stop(self):\n",
    "        self.speed = 0\n",
    "    def setspeed(self,a):\n",
    "        self.speed = a\n",
    "    def __str__(self):   #when printing the instance of the truck this runs\n",
    "        return f'The duck is moving at {self.speed}MPH'\n",
    "\n",
    "goose = duck()\n",
    "goose.speedup()\n",
    "print(goose)\n"
   ]
  },
  {
   "cell_type": "code",
   "execution_count": null,
   "metadata": {},
   "outputs": [],
   "source": [
    "#CTFD 103\n",
    "\n",
    "class TicTacToe:\n",
    "    def __init__(self):\n",
    "    def move(self,row,col):\n",
    "        "
   ]
  },
  {
   "cell_type": "code",
   "execution_count": null,
   "metadata": {},
   "outputs": [],
   "source": [
    "#CTFD 104\n",
    "class MacAddress:\n",
    "    OUI = {\n",
    "        bytes([0xda,0xa1,0x19]): 'Google, Inc.',\n",
    "        bytes([0xca,0x12,0x5c]): 'Microsoft Corporation',\n",
    "        bytes([0x3b,0x35,0x41]): 'Raspberry Pi (Trading) Ltd',\n",
    "    }   \n",
    "    def __init__(self,mac):\n",
    "        self.address = mac\n",
    "    def is_multicast(self):\n",
    "        if self.address == :\n",
    "            return True\n",
    "        else:\n",
    "            return False\n",
    "    def organization(self):\n",
    "        if "
   ]
  }
 ],
 "metadata": {
  "kernelspec": {
   "display_name": "Python 3",
   "language": "python",
   "name": "python3"
  },
  "language_info": {
   "codemirror_mode": {
    "name": "ipython",
    "version": 3
   },
   "file_extension": ".py",
   "mimetype": "text/x-python",
   "name": "python",
   "nbconvert_exporter": "python",
   "pygments_lexer": "ipython3",
   "version": "3.8.10"
  },
  "orig_nbformat": 4,
  "vscode": {
   "interpreter": {
    "hash": "916dbcbb3f70747c44a77c7bcd40155683ae19c65e1c03b4aa3499c5328201f1"
   }
  }
 },
 "nbformat": 4,
 "nbformat_minor": 2
}
